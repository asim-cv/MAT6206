{
 "cells": [
  {
   "cell_type": "markdown",
   "metadata": {},
   "source": [
    "# **Introduction to Python (Part 1)**"
   ]
  },
  {
   "cell_type": "markdown",
   "metadata": {},
   "source": [
    "**Python** is a high-level, versatile, and easy-to-read programming language that is widely used in data science, web development, automation, and software engineering. It emphasizes code readability with a simple syntax, making it an excellent choice for beginners. Python supports multiple programming paradigms—including procedural, object-oriented, and functional programming—and has a vast ecosystem of libraries and tools that make it powerful for advanced applications in research and industry. For a master's level student, Python offers a strong foundation for both academic and practical problem-solving in computing."
   ]
  },
  {
   "cell_type": "markdown",
   "metadata": {},
   "source": [
    "---\n",
    "## **1. Fundamentals of Programming in Python**"
   ]
  },
  {
   "cell_type": "markdown",
   "metadata": {},
   "source": [
    "ٰٰ**NumPY** is a foundational Python library for numerical computing.\n",
    "Provides: Fast multi-dimensional arrays (ndarray), Mathematical operations (linear algebra, statistics, etc.), Efficient data storage and vectorized operations.\n",
    "\n",
    "**Pandas** is built on NumPy for data manipulation and analysis.\n",
    "Provides: DataFrames (tabular data) and Series (1D arrays), Tools for cleaning, transforming, and analyzing structured data, Time series handling, I/O (CSV/Excel), and merging datasets."
   ]
  },
  {
   "cell_type": "code",
   "execution_count": null,
   "metadata": {},
   "outputs": [],
   "source": [
    "# Import necessary libraries\n",
    "import numpy as np\n",
    "import pandas as pd"
   ]
  },
  {
   "cell_type": "markdown",
   "metadata": {},
   "source": [
    "---\n",
    "### **1.1 Variable Assignment**"
   ]
  },
  {
   "cell_type": "markdown",
   "metadata": {},
   "source": [
    "In mathematics and statistics, a variable represents a symbol that can take on different values. In Python, a variable is a name that refers to a value (or object) stored in memory. You can use a variable to store:\n",
    "\n",
    "- Primitive data (like numbers or strings)\n",
    "- Data structures (like lists or dictionaries)\n",
    "- Functions\n",
    "- Objects from custom classes\n",
    "- Even plots or models (via external libraries)\n",
    "\n",
    "You can later use the variable’s name to retrieve or manipulate what it refers to."
   ]
  },
  {
   "attachments": {},
   "cell_type": "markdown",
   "metadata": {},
   "source": [
    "A variable name must start with a letter (lowercase or uppercase) or an underscore (_). Variable names cannot be a Python keyword (e.g., if, else, for, while, etc.).\n",
    "\n",
    "Python uses the = symbol for assignment. In the example below, the number 35 is assigned to the variable x. This means “let x point to the object 35.” Note that when you run this command, the object or variable x is created but nothing will be displayed."
   ]
  },
  {
   "cell_type": "code",
   "execution_count": null,
   "metadata": {},
   "outputs": [],
   "source": [
    "# Assign a value to x\n",
    "x = 35"
   ]
  },
  {
   "attachments": {},
   "cell_type": "markdown",
   "metadata": {},
   "source": [
    "To recall or print out the value that is assigned to variable x, you just need to run variable name as a command."
   ]
  },
  {
   "cell_type": "code",
   "execution_count": null,
   "metadata": {},
   "outputs": [],
   "source": [
    "# Display x\n",
    "x"
   ]
  },
  {
   "cell_type": "markdown",
   "metadata": {},
   "source": [
    "You can overwrite the stored value by assigning another value to the same variable. For example:"
   ]
  },
  {
   "cell_type": "code",
   "execution_count": null,
   "metadata": {},
   "outputs": [],
   "source": [
    "# Assign a new value to x and display\n",
    "x = 18\n",
    "x"
   ]
  },
  {
   "cell_type": "markdown",
   "metadata": {},
   "source": [
    "Suppose we want to add 8 to x and store the sum in a new object, say y. This can be done as follows."
   ]
  },
  {
   "cell_type": "code",
   "execution_count": null,
   "metadata": {},
   "outputs": [],
   "source": [
    "# Adds 8 to the value of x and stores the result in y\n",
    "y = x + 8\n",
    "y"
   ]
  },
  {
   "cell_type": "markdown",
   "metadata": {},
   "source": [
    "Suppose now we have a linear equation given by y = 3x + 5. Since x = 18, then we have,"
   ]
  },
  {
   "cell_type": "code",
   "execution_count": null,
   "metadata": {},
   "outputs": [],
   "source": [
    "# Multiplies x by 3, adds 5, and stores the result in y\n",
    "y = 3 * x + 5\n",
    "y"
   ]
  },
  {
   "cell_type": "markdown",
   "metadata": {},
   "source": [
    "---"
   ]
  },
  {
   "cell_type": "markdown",
   "metadata": {},
   "source": [
    "When coding, it is always a good idea to give meaningful names to variables and better yet, ones that are self explanatory. Providing meaningful names to variables will help the reader and reduce the amount of commentaries required. For example, suppose we want to calculate the area of a circle (i.e. 𝜋𝑟2), given that its diameter is 10 cm. Here we have,"
   ]
  },
  {
   "cell_type": "code",
   "execution_count": null,
   "metadata": {},
   "outputs": [],
   "source": [
    "# Area of a circle given diameter\n",
    "diam = 10  # diameter = 10 cm\n",
    "radius = diam / 2  # radius is half of the diameter\n",
    "area_circle = np.pi * radius ** 2  # area of the circle\n",
    "area_circle"
   ]
  },
  {
   "cell_type": "markdown",
   "metadata": {},
   "source": [
    "---"
   ]
  },
  {
   "cell_type": "markdown",
   "metadata": {},
   "source": [
    "### **1.2 Data Types**"
   ]
  },
  {
   "cell_type": "markdown",
   "metadata": {},
   "source": [
    "There are five basic data types in Python.\n",
    "- Integer (int)\n",
    "- Float (float)\n",
    "- Boolean (bool)\n",
    "- String (str)\n",
    "- Complex (complex)\n",
    "\n",
    "But we will focus on the four most commonly used in this session, i.e. **Interger, Float, Boolean and String.** The *complex* type, such as 2 + 3j, is used to handle complex numbers that include both real and imaginary parts, which we will not discuss here.\n"
   ]
  },
  {
   "attachments": {},
   "cell_type": "markdown",
   "metadata": {},
   "source": [
    "#### **1.2.1 Integer (whole numbers): int**\n",
    "The *Integer* type is used for whole numbers such as 5 or -100."
   ]
  },
  {
   "cell_type": "code",
   "execution_count": null,
   "metadata": {},
   "outputs": [],
   "source": [
    "5 # Positive whole number as constact"
   ]
  },
  {
   "cell_type": "code",
   "execution_count": null,
   "metadata": {},
   "outputs": [],
   "source": [
    "-3 # Negative whole number as constant"
   ]
  },
  {
   "cell_type": "code",
   "execution_count": null,
   "metadata": {},
   "outputs": [],
   "source": [
    "x = 5 # Assignment of whole number makes x as int by default\n",
    "x"
   ]
  },
  {
   "cell_type": "code",
   "execution_count": null,
   "metadata": {},
   "outputs": [],
   "source": [
    "type(x) # Confirming the data type"
   ]
  },
  {
   "cell_type": "markdown",
   "metadata": {},
   "source": [
    "#### **1.2.2 Floating-point numbers: float**\n",
    "The float type represents real numbers with decimal points, like 3.14 or -0.01."
   ]
  },
  {
   "cell_type": "code",
   "execution_count": null,
   "metadata": {},
   "outputs": [],
   "source": [
    "5.5 # Positive floating-point constant"
   ]
  },
  {
   "cell_type": "code",
   "execution_count": null,
   "metadata": {},
   "outputs": [],
   "source": [
    "-2.75 # Negative floating-point constant"
   ]
  },
  {
   "cell_type": "code",
   "execution_count": null,
   "metadata": {},
   "outputs": [],
   "source": [
    "np.pi # Display the value of 𝜋 using numpy object 'np'"
   ]
  },
  {
   "attachments": {},
   "cell_type": "markdown",
   "metadata": {},
   "source": [
    "We can also perform mathematical operations on the *Integer* and *Float*, just as you would do in a calculator. Only *float* type numbers are shown as an example."
   ]
  },
  {
   "cell_type": "code",
   "execution_count": null,
   "metadata": {},
   "outputs": [],
   "source": [
    "# Basic arithmetic operations\n",
    "5.5 + 2.7  # Addition"
   ]
  },
  {
   "cell_type": "code",
   "execution_count": null,
   "metadata": {},
   "outputs": [],
   "source": [
    "5.5 - 2.7  # Subtraction"
   ]
  },
  {
   "cell_type": "code",
   "execution_count": null,
   "metadata": {},
   "outputs": [],
   "source": [
    "y = 5.5 / 2; y  # Division"
   ]
  },
  {
   "cell_type": "code",
   "execution_count": null,
   "metadata": {},
   "outputs": [],
   "source": [
    "type(y) # Note that float and int were involved in the operation"
   ]
  },
  {
   "cell_type": "code",
   "execution_count": null,
   "metadata": {},
   "outputs": [],
   "source": [
    "5.5 * 2  # Multiplication"
   ]
  },
  {
   "cell_type": "code",
   "execution_count": null,
   "metadata": {},
   "outputs": [],
   "source": [
    "5.5 ** 2  # Squaring"
   ]
  },
  {
   "cell_type": "code",
   "execution_count": null,
   "metadata": {},
   "outputs": [],
   "source": [
    "5.5 ** 4  # To the power of 4"
   ]
  },
  {
   "cell_type": "code",
   "execution_count": null,
   "metadata": {},
   "outputs": [],
   "source": [
    "np.sqrt(5.5)  # Square root"
   ]
  },
  {
   "cell_type": "code",
   "execution_count": null,
   "metadata": {},
   "outputs": [],
   "source": [
    "np.exp(5.5)  # Exponential"
   ]
  },
  {
   "cell_type": "code",
   "execution_count": null,
   "metadata": {},
   "outputs": [],
   "source": [
    "np.log(5.5)  # Natural log"
   ]
  },
  {
   "attachments": {},
   "cell_type": "markdown",
   "metadata": {},
   "source": [
    "#### **1.2.3 Logical Operators (Boolean)**\n",
    "A logical value is to indicate whether an item/statement is TRUE or FALSE, i.e. a Boolean value. Python provides several operators for performing logical operations. Here's a complete list:"
   ]
  },
  {
   "cell_type": "code",
   "execution_count": null,
   "metadata": {},
   "outputs": [],
   "source": [
    "# Basic Logical Operators\n",
    "True and False # Logical AND results in \"False\" outcome"
   ]
  },
  {
   "cell_type": "code",
   "execution_count": null,
   "metadata": {},
   "outputs": [],
   "source": [
    "True or False # Logical OR results in \"True\" outcome"
   ]
  },
  {
   "cell_type": "code",
   "execution_count": null,
   "metadata": {},
   "outputs": [],
   "source": [
    "not True # Logical NOT returns \"False\" in the outcome"
   ]
  },
  {
   "cell_type": "code",
   "execution_count": null,
   "metadata": {},
   "outputs": [],
   "source": [
    "# Bitwise Logical Operators (for integers). These perform logical operations bit-by-bit:\n",
    "5 & 3  # & is Bitwise AND, Returns 1 (0101 & 0011 = 0001)"
   ]
  },
  {
   "cell_type": "code",
   "execution_count": null,
   "metadata": {},
   "outputs": [],
   "source": [
    "5 | 3  # | is Bitwise OR, Returns 7 (0101 | 0011 = 0111)"
   ]
  },
  {
   "cell_type": "code",
   "execution_count": null,
   "metadata": {},
   "outputs": [],
   "source": [
    "5 ^ 3  # ^ is Bitwise XOR, Returns 6 (0101 ^ 0011 = 0110)"
   ]
  },
  {
   "cell_type": "code",
   "execution_count": null,
   "metadata": {},
   "outputs": [],
   "source": [
    "~5  # ~ is Bitwise NOT, Returns -6 (inverts all bits)"
   ]
  },
  {
   "cell_type": "markdown",
   "metadata": {},
   "source": [
    "*Comparison* Operators return True/False (Boolean) based on the following operators:\n",
    "\n",
    "== - Equal to\n",
    "\n",
    "!= - Not equal to\n",
    "\n",
    "\\> - Greater than\n",
    "\n",
    "< - Less than\n",
    "\n",
    "\\>= - Greater than or equal to\n",
    "\n",
    "<= - Less than or equal to"
   ]
  },
  {
   "cell_type": "code",
   "execution_count": null,
   "metadata": {},
   "outputs": [],
   "source": [
    "# Logical comparisons Examples\n",
    "5 == 5  # Does 5 equal 5?"
   ]
  },
  {
   "cell_type": "code",
   "execution_count": null,
   "metadata": {},
   "outputs": [],
   "source": [
    "5 == 2  # Does 5 equal 2?"
   ]
  },
  {
   "cell_type": "code",
   "execution_count": null,
   "metadata": {},
   "outputs": [],
   "source": [
    "5 != 2  # Does 5 not equal 2?"
   ]
  },
  {
   "cell_type": "code",
   "execution_count": null,
   "metadata": {},
   "outputs": [],
   "source": [
    "5 > 2  # Is 5 greater than 2?"
   ]
  },
  {
   "cell_type": "code",
   "execution_count": null,
   "metadata": {},
   "outputs": [],
   "source": [
    "5 >= 2  # Is 5 greater than or equals to 2"
   ]
  },
  {
   "cell_type": "code",
   "execution_count": null,
   "metadata": {},
   "outputs": [],
   "source": [
    "5 < 2  # Is 5 less than 2?"
   ]
  },
  {
   "cell_type": "code",
   "execution_count": null,
   "metadata": {},
   "outputs": [],
   "source": [
    "5 <= 2  # Is 5 less than or equals to 2"
   ]
  },
  {
   "cell_type": "code",
   "execution_count": null,
   "metadata": {},
   "outputs": [],
   "source": [
    "# Logical operations combining logical operators and comaprison operators\n",
    "(5 > 2) and (5 > 4)"
   ]
  },
  {
   "cell_type": "code",
   "execution_count": null,
   "metadata": {},
   "outputs": [],
   "source": [
    "(5 > 2) and (5 < 4)"
   ]
  },
  {
   "cell_type": "code",
   "execution_count": null,
   "metadata": {},
   "outputs": [],
   "source": [
    "(5 > 2) or (5 < 4)"
   ]
  },
  {
   "cell_type": "code",
   "execution_count": null,
   "metadata": {},
   "outputs": [],
   "source": [
    "# Identity Operators\n",
    "# is - True if same object\n",
    "x is y # x and y are different, \"Flase\" is returned"
   ]
  },
  {
   "cell_type": "code",
   "execution_count": null,
   "metadata": {},
   "outputs": [],
   "source": [
    "x is not y # 'is not' - True if different objects"
   ]
  },
  {
   "cell_type": "code",
   "execution_count": null,
   "metadata": {},
   "outputs": [],
   "source": [
    "# Membership Operators\n",
    "a = [1,2,3]\n",
    "b = 2\n",
    "b in a # in - True if value found in sequence"
   ]
  },
  {
   "cell_type": "code",
   "execution_count": null,
   "metadata": {},
   "outputs": [],
   "source": [
    "b not in a # 'not in' - True if value not found in sequence"
   ]
  },
  {
   "cell_type": "markdown",
   "metadata": {},
   "source": [
    "#### **1.2.4 Strings (Textual data): str**\n",
    "A character in Python is represented as a **string** value *(str)*, defined using quotes (\" \" or ' '). A string can contain numbers (e.g. \"1\", \"2\", \"3\"), letters (e.g. \"a\", \"b\", \"C\"), symbols (e.g. \"#\", \"$\", \"@\"), or a combination of these, such as words or sentences. It’s important to note that if a number is stored as a string, you cannot perform mathematical operations on it directly. For example, \"5\" is a string, not a number, so trying to add it to an integer will result in an error. To use it in calculations, you must first convert it to a numeric type using functions like int() or float()."
   ]
  },
  {
   "cell_type": "code",
   "execution_count": null,
   "metadata": {},
   "outputs": [],
   "source": [
    "# String examples\n",
    "'a'"
   ]
  },
  {
   "cell_type": "code",
   "execution_count": null,
   "metadata": {},
   "outputs": [],
   "source": [
    "\"abc123\""
   ]
  },
  {
   "cell_type": "code",
   "execution_count": null,
   "metadata": {},
   "outputs": [],
   "source": [
    "'apples'"
   ]
  },
  {
   "cell_type": "code",
   "execution_count": null,
   "metadata": {},
   "outputs": [],
   "source": [
    "'I hate apples'"
   ]
  },
  {
   "cell_type": "code",
   "execution_count": null,
   "metadata": {},
   "outputs": [],
   "source": [
    "# Multiple strings as separate commonds (separated by ;) in one cell, Only prints the last literal\n",
    "'a'; 'abc' ; 'apples'; 'I hate apples'"
   ]
  },
  {
   "cell_type": "code",
   "execution_count": null,
   "metadata": {},
   "outputs": [],
   "source": [
    "# Using 'print' command if you want to display multiple objects in the same cell\n",
    "print('a'); print(\"abc\") ; 'apples'; 'I hate apples'"
   ]
  },
  {
   "attachments": {},
   "cell_type": "markdown",
   "metadata": {},
   "source": [
    "---\n",
    "### **1.3 Data Structures**\n",
    "Data structures are tools for holding multiple values. In data analysis, one typically works with groups of numbers and/or characters, and rarely with single values one-at-a-time. Data structures allows us to store and manipulate multiple or groups of values simultaneously. The fundamental data structures in Python that we will discuss here include lists, arrays, categorical data (levels), matrices, and data frames."
   ]
  },
  {
   "attachments": {},
   "cell_type": "markdown",
   "metadata": {},
   "source": [
    "#### **1.3.1 Creating sequences (Lists and arrays)**\n",
    "A sequence *list* can be a collection of elements of the same or different data types."
   ]
  },
  {
   "cell_type": "code",
   "execution_count": null,
   "metadata": {},
   "outputs": [],
   "source": [
    "[]  # A null (empty) list"
   ]
  },
  {
   "cell_type": "code",
   "execution_count": null,
   "metadata": {},
   "outputs": [],
   "source": [
    "a = [1, 2, 3]  # A numeric list\n",
    "a"
   ]
  },
  {
   "cell_type": "code",
   "execution_count": null,
   "metadata": {},
   "outputs": [],
   "source": [
    "['a', 'b', 'c']  # A character list"
   ]
  },
  {
   "cell_type": "code",
   "execution_count": null,
   "metadata": {},
   "outputs": [],
   "source": [
    "[True, False, False]  # A logical list"
   ]
  },
  {
   "cell_type": "markdown",
   "metadata": {},
   "source": [
    "Let us create a *list* containing the integers from 1 to 5."
   ]
  },
  {
   "cell_type": "code",
   "execution_count": null,
   "metadata": {},
   "outputs": [],
   "source": [
    "# Create a list from 1 to 5\n",
    "a = list(range(1, 6))\n",
    "a"
   ]
  },
  {
   "cell_type": "markdown",
   "metadata": {},
   "source": [
    "We use square brackets, i.e. [.], if we wish to access particular element(s) within the list, rather than the whole list. Remember, Python is 0-indexed, which means that the first element in the list is indexed as 0."
   ]
  },
  {
   "cell_type": "code",
   "execution_count": null,
   "metadata": {},
   "outputs": [],
   "source": [
    "# Accessing elements in a list (Python is 0-indexed)\n",
    "a[1]  # 2nd element"
   ]
  },
  {
   "cell_type": "code",
   "execution_count": null,
   "metadata": {},
   "outputs": [],
   "source": [
    "a[2]  # 3rd element"
   ]
  },
  {
   "cell_type": "code",
   "execution_count": null,
   "metadata": {},
   "outputs": [],
   "source": [
    "a[2:5]  # 3rd to 5th element"
   ]
  },
  {
   "cell_type": "code",
   "execution_count": null,
   "metadata": {},
   "outputs": [],
   "source": [
    "[a[1], a[4]]  # 2nd and 5th elements"
   ]
  },
  {
   "cell_type": "code",
   "execution_count": null,
   "metadata": {},
   "outputs": [],
   "source": [
    "z = [1 , 'a', True]; z # list of different data types"
   ]
  },
  {
   "cell_type": "code",
   "execution_count": null,
   "metadata": {},
   "outputs": [],
   "source": [
    "type(z) # confirming the data type of z"
   ]
  },
  {
   "cell_type": "code",
   "execution_count": null,
   "metadata": {},
   "outputs": [],
   "source": [
    "# Create a new list b containing the integers 6, 7, 8, 9, 10\n",
    "b = list(range(6, 11))\n",
    "b"
   ]
  },
  {
   "cell_type": "code",
   "execution_count": null,
   "metadata": {},
   "outputs": [],
   "source": [
    "# Combine lists a and b\n",
    "c = a + b\n",
    "c"
   ]
  },
  {
   "cell_type": "code",
   "execution_count": null,
   "metadata": {},
   "outputs": [],
   "source": [
    "c = a * 4; c # Appending the list 'a' four times and assigning it to 'c', then display 'c'"
   ]
  },
  {
   "cell_type": "markdown",
   "metadata": {},
   "source": [
    "**Pro Tip:** The variable name simply points to an object in memory. This affects mutability:"
   ]
  },
  {
   "cell_type": "code",
   "execution_count": null,
   "metadata": {},
   "outputs": [],
   "source": [
    "a = [1, 2, 3]\n",
    "b = a        # b points to the same list as a\n",
    "b.append(4)\n",
    "a            # Display a, Output: [1, 2, 3, 4]"
   ]
  },
  {
   "cell_type": "markdown",
   "metadata": {},
   "source": [
    "---\n",
    "We have to convert list in to **arrays**, if we have to perform numerical operations on them. Arrays are *ordered collections* of items (usually of the same type) stored in *contiguous memory*. Unlike lists, arrays are optimized for numerical operation."
   ]
  },
  {
   "cell_type": "code",
   "execution_count": null,
   "metadata": {},
   "outputs": [],
   "source": [
    "# Element-wise operations using numpy arrays\n",
    "a_np = np.array(a)\n",
    "b_np = np.array(b)\n",
    "a_np * 0.25  # Multiply elements of a by 0.25"
   ]
  },
  {
   "cell_type": "code",
   "execution_count": null,
   "metadata": {},
   "outputs": [],
   "source": [
    "a_np + b_np  # Add elements of a and b"
   ]
  },
  {
   "cell_type": "code",
   "execution_count": null,
   "metadata": {},
   "outputs": [],
   "source": [
    "b_np - a_np  # Subtract elements of a from b"
   ]
  },
  {
   "cell_type": "code",
   "execution_count": null,
   "metadata": {},
   "outputs": [],
   "source": [
    "a_np * b_np  # Multiply elements of a and b"
   ]
  },
  {
   "cell_type": "code",
   "execution_count": null,
   "metadata": {},
   "outputs": [],
   "source": [
    "b_np / a_np  # Divide elements of b by elements of a"
   ]
  },
  {
   "cell_type": "markdown",
   "metadata": {},
   "source": [
    "#### **1.3.2 Categorical Data in Python using Pandas**\n",
    "Categorical data in pandas refers to a data type used for variables that take on a limited, fixed set of possible values (categories). Examples include:\n",
    "\n",
    "Gender: ['Male', 'Female', 'Other']\n",
    "\n",
    "Product Categories: ['Electronics', 'Clothing', 'Furniture']\n",
    "\n",
    "Survey Ratings: ['Low', 'Medium', 'High']"
   ]
  },
  {
   "cell_type": "code",
   "execution_count": null,
   "metadata": {},
   "outputs": [],
   "source": [
    "f1 = pd.Categorical([1, 2, 3, 4, 5])\n",
    "f1"
   ]
  },
  {
   "cell_type": "code",
   "execution_count": null,
   "metadata": {},
   "outputs": [],
   "source": [
    "f2 = pd.Categorical(['Male', 'Female', 'Female', 'Male', 'Female'])\n",
    "f2"
   ]
  },
  {
   "cell_type": "code",
   "execution_count": null,
   "metadata": {},
   "outputs": [],
   "source": [
    "f3 = pd.Categorical(['L', 'M', 'H', 'H', 'M', 'L'])\n",
    "f3"
   ]
  },
  {
   "cell_type": "markdown",
   "metadata": {},
   "source": [
    "By default, categories follow lexicographical (alphabetical) order when created. However, the order can be explicitly defined if needed."
   ]
  },
  {
   "cell_type": "code",
   "execution_count": null,
   "metadata": {},
   "outputs": [],
   "source": [
    "# Reorder the levels of f3\n",
    "f3 = pd.Categorical(f3, categories=['L', 'M', 'H'], ordered=True)\n",
    "f3"
   ]
  },
  {
   "cell_type": "markdown",
   "metadata": {},
   "source": [
    "#### **1.3.3 Matrices**\n",
    "A matrix is a two-dimensional rectangular array of numbers, symbols, or expressions arranged in rows and columns. It is a fundamental structure in linear algebra, widely used in mathematics, physics, engineering, and data science (e.g., machine learning, image processing).\n",
    "\n",
    "We can create matrix using 'arrange' function for numPY package."
   ]
  },
  {
   "cell_type": "code",
   "execution_count": null,
   "metadata": {},
   "outputs": [],
   "source": [
    "# Create a 3x3 matrix, filled column-wise (default in numpy)\n",
    "Mat_A = np.arange(1, 10).reshape((3, 3), order='F')\n",
    "Mat_A"
   ]
  },
  {
   "cell_type": "code",
   "execution_count": null,
   "metadata": {},
   "outputs": [],
   "source": [
    "# Create a 3x3 matrix, filled row-wise\n",
    "Mat_B = np.arange(1, 10).reshape((3, 3), order='C')\n",
    "Mat_B"
   ]
  },
  {
   "cell_type": "code",
   "execution_count": null,
   "metadata": {},
   "outputs": [],
   "source": [
    "# Create a 3x3 matrix, column-wise (explicit)\n",
    "Mat_A = np.arange(1, 10).reshape((3, 3), order='F')\n",
    "Mat_A"
   ]
  },
  {
   "cell_type": "markdown",
   "metadata": {},
   "source": [
    "Another way to create a matrix, is by **binding multiple arrays** of the same length together. We can either bind the vectors together as column arrays using the **np.column_stack(.)** command, or as row arrays using the **np.row_stack(.)** command."
   ]
  },
  {
   "cell_type": "code",
   "execution_count": null,
   "metadata": {},
   "outputs": [],
   "source": [
    "# Bind arrays as columns and rows\n",
    "a1 = np.array([1, 2, 3])  # Array 1\n",
    "a2 = np.array([4, 5, 6])  # Array 2\n",
    "a3 = np.array([7, 8, 9])  # Array 3\n",
    "Mat_A = np.column_stack((a1, a2, a3))  # as columns\n",
    "Mat_A"
   ]
  },
  {
   "cell_type": "code",
   "execution_count": null,
   "metadata": {},
   "outputs": [],
   "source": [
    "Mat_B = np.row_stack((a1, a2, a3))  # as rows\n",
    "Mat_B"
   ]
  },
  {
   "cell_type": "markdown",
   "metadata": {},
   "source": [
    "The elements of two or more matrices can be multiplied together only if they have the same dimension. Since Mat.A and Mat.B are both 3 × 3 matrices, we can multiply them by one another. Note that the multiplication is done element-to-element. In this instance, A × B = B × A."
   ]
  },
  {
   "cell_type": "code",
   "execution_count": null,
   "metadata": {},
   "outputs": [],
   "source": [
    "# Element-wise multiplication\n",
    "Mat_A * Mat_B"
   ]
  },
  {
   "cell_type": "code",
   "execution_count": null,
   "metadata": {},
   "outputs": [],
   "source": [
    "# Element-wise multiplication\n",
    "Mat_B * Mat_A"
   ]
  },
  {
   "cell_type": "markdown",
   "metadata": {},
   "source": [
    "However in matrix multiplication, say A × B, the number of columns in matrix A must equal the number of rows in matrix B, and each row of matrix A are multiplied by each column of matrix B, and summed. Click here for a Khan Academy online tutorial in manual matrix multiplication. Matrix multiplication in Python is performed using the @ command. In matrix multiplication, A × B ≠ B × A."
   ]
  },
  {
   "cell_type": "code",
   "execution_count": null,
   "metadata": {},
   "outputs": [],
   "source": [
    "# Matrix multiplication\n",
    "Mat_A @ Mat_B  # A matrix multiply B"
   ]
  },
  {
   "cell_type": "code",
   "execution_count": null,
   "metadata": {},
   "outputs": [],
   "source": [
    "Mat_B @ Mat_A  # B matrix multiply A"
   ]
  },
  {
   "cell_type": "markdown",
   "metadata": {},
   "source": [
    "To access the elements of a matrix, say A, we need to specify the corresponding row(s) and columns(s) within the square brackets, i.e. A[row(s),column(s)]. If the rows are not specified, but the columns are, then all the rows will be extracted and vice versa.\n",
    "\n",
    "Here are some examples."
   ]
  },
  {
   "cell_type": "code",
   "execution_count": null,
   "metadata": {},
   "outputs": [],
   "source": [
    "# Accessing elements in a matrix (Python is 0-indexed)\n",
    "Mat_A[1, 2]  # element in row 2, column 3"
   ]
  },
  {
   "cell_type": "code",
   "execution_count": null,
   "metadata": {},
   "outputs": [],
   "source": [
    "Mat_A[0:2, 2]  # rows 1 and 2, column 3"
   ]
  },
  {
   "cell_type": "code",
   "execution_count": null,
   "metadata": {},
   "outputs": [],
   "source": [
    "Mat_A[0, 1:3]  # row 1, columns 2 and 3"
   ]
  },
  {
   "cell_type": "code",
   "execution_count": null,
   "metadata": {},
   "outputs": [],
   "source": [
    "Mat_A[0, :]  # all elements in row 1"
   ]
  },
  {
   "cell_type": "code",
   "execution_count": null,
   "metadata": {},
   "outputs": [],
   "source": [
    "Mat_A[:, 2]  # all elements in column 3"
   ]
  },
  {
   "cell_type": "code",
   "execution_count": null,
   "metadata": {},
   "outputs": [],
   "source": [
    "Mat_A[:, [0, 2]]  # all elements in columns 1 and 3"
   ]
  },
  {
   "cell_type": "code",
   "execution_count": null,
   "metadata": {},
   "outputs": [],
   "source": [
    "Mat_A[:, 1:]  # all data except column 1"
   ]
  },
  {
   "attachments": {},
   "cell_type": "markdown",
   "metadata": {},
   "source": [
    "#### **1.3.4 DataFrame**\n",
    "A DataFrame is a two-dimensional, tabular data structure (like a spreadsheet or SQL table) provided by the pandas library. It organizes data in rows and columns, where each column can hold a different data type (e.g., numbers, strings, dates). However, all columns must have the same length, and the elements within each column must be of the same type. DataFrames are the primary tool for data manipulation and analysis in Python."
   ]
  },
  {
   "cell_type": "code",
   "execution_count": null,
   "metadata": {},
   "outputs": [],
   "source": [
    "# Create vectors for a DataFrame\n",
    "Name = ['John', 'Sarah', 'Zach', 'Beth', 'Lachlan']  # Name - Character vector\n",
    "Age = [35, 28, 33, 55, 43]  # Age - Numeric vector\n",
    "Gender = pd.Categorical(['Male', 'Female', 'Male', 'Female', 'Male'])  # Gender - factor"
   ]
  },
  {
   "cell_type": "markdown",
   "metadata": {},
   "source": [
    "Now we can combine the three vectors to form a data frame."
   ]
  },
  {
   "cell_type": "code",
   "execution_count": null,
   "metadata": {},
   "outputs": [],
   "source": [
    "# Create a DataFrame\n",
    "df = pd.DataFrame({'Name': Name, 'Age': Age, 'Gender': Gender})\n",
    "df"
   ]
  },
  {
   "cell_type": "markdown",
   "metadata": {},
   "source": [
    "We can add new columns(s) to an existing data frame by using either the direct assignment or pd.concat(.) command."
   ]
  },
  {
   "cell_type": "code",
   "execution_count": null,
   "metadata": {},
   "outputs": [],
   "source": [
    "# Add new column to the DataFrame (Method 1)\n",
    "Coffee_Drinker = [True, True, False, True, False]  # Drinks coffee? - logical vector\n",
    "df1 = df.copy()\n",
    "df1['Coffee_Drinker'] = Coffee_Drinker\n",
    "df1"
   ]
  },
  {
   "cell_type": "code",
   "execution_count": null,
   "metadata": {},
   "outputs": [],
   "source": [
    "# Add new column to the DataFrame (Method 2)\n",
    "df2 = pd.concat([df, pd.Series(Coffee_Drinker, name='Coffee_Drinker')], axis=1)\n",
    "df2"
   ]
  },
  {
   "cell_type": "markdown",
   "metadata": {},
   "source": [
    "Data frames are accessed in the same way as matrices."
   ]
  },
  {
   "cell_type": "code",
   "execution_count": null,
   "metadata": {},
   "outputs": [],
   "source": [
    "# Accessing rows and columns in DataFrame\n",
    "df.iloc[[0], 0:3]  # 1st row, columns 1-3"
   ]
  },
  {
   "cell_type": "code",
   "execution_count": null,
   "metadata": {},
   "outputs": [],
   "source": [
    "df.iloc[1:3, :]  # rows 2 and 3, all columns"
   ]
  },
  {
   "cell_type": "code",
   "execution_count": null,
   "metadata": {},
   "outputs": [],
   "source": [
    "df.iloc[:, [0, 2]]  # all rows, columns 1 and 3"
   ]
  },
  {
   "cell_type": "code",
   "execution_count": null,
   "metadata": {},
   "outputs": [],
   "source": [
    "# Accessing columns by name\n",
    "df['Name']"
   ]
  },
  {
   "cell_type": "code",
   "execution_count": null,
   "metadata": {},
   "outputs": [],
   "source": [
    "df[['Name', 'Gender']]"
   ]
  },
  {
   "cell_type": "code",
   "execution_count": null,
   "metadata": {},
   "outputs": [],
   "source": [
    "# Access and display columns (Another way)\n",
    "df.Name"
   ]
  },
  {
   "cell_type": "code",
   "execution_count": null,
   "metadata": {},
   "outputs": [],
   "source": [
    "df.loc[:, 'Age']"
   ]
  },
  {
   "cell_type": "code",
   "execution_count": null,
   "metadata": {},
   "outputs": [],
   "source": [
    "df.iloc[:, 2]  # All rows, Third column (position 2)"
   ]
  },
  {
   "cell_type": "code",
   "execution_count": null,
   "metadata": {},
   "outputs": [],
   "source": [
    "# Add new variables to df and display\n",
    "df['Coffee_Drinker'] = Coffee_Drinker\n",
    "df"
   ]
  },
  {
   "cell_type": "code",
   "execution_count": null,
   "metadata": {},
   "outputs": [],
   "source": [
    "df['Diabetes'] = pd.Categorical(['Yes', 'No', 'No', 'No', 'Yes'])\n",
    "df"
   ]
  },
  {
   "cell_type": "markdown",
   "metadata": {},
   "source": [
    "We can oberseve the structure of the DataFrame using info(.) command."
   ]
  },
  {
   "cell_type": "code",
   "execution_count": null,
   "metadata": {},
   "outputs": [],
   "source": [
    "# Structure of DataFrame\n",
    "df.info()"
   ]
  },
  {
   "cell_type": "code",
   "execution_count": null,
   "metadata": {},
   "outputs": [],
   "source": [
    "# Convert between DataFrame and 'Dict'\n",
    "df3 = df.to_dict(); df3 # as data frame (dict)"
   ]
  },
  {
   "cell_type": "code",
   "execution_count": null,
   "metadata": {},
   "outputs": [],
   "source": [
    "df4 = pd.DataFrame(df3); df4  # as DataFrame"
   ]
  },
  {
   "cell_type": "markdown",
   "metadata": {},
   "source": [
    "---\n",
    "#### **1.3.5 Advance lists operations**\n",
    "List can be a collecion of multiple Data Structures. For example:"
   ]
  },
  {
   "cell_type": "code",
   "execution_count": null,
   "metadata": {},
   "outputs": [],
   "source": [
    "# Lists in Python (can contain different types)\n",
    "list1 = [c, Mat_A, df]\n",
    "list1"
   ]
  },
  {
   "cell_type": "code",
   "execution_count": null,
   "metadata": {},
   "outputs": [],
   "source": [
    "# Examine the structure of the list and its components\n",
    "for i, item in enumerate(list1):\n",
    "    print(f'Component {i+1} type: {type(item)}')"
   ]
  },
  {
   "cell_type": "code",
   "execution_count": null,
   "metadata": {},
   "outputs": [],
   "source": [
    "# Access list components\n",
    "list1[0]  # vector c"
   ]
  },
  {
   "cell_type": "code",
   "execution_count": null,
   "metadata": {},
   "outputs": [],
   "source": [
    "list1[1]  # matrix Mat_A"
   ]
  },
  {
   "cell_type": "code",
   "execution_count": null,
   "metadata": {},
   "outputs": [],
   "source": [
    "list1[2]  # data frame df"
   ]
  },
  {
   "cell_type": "code",
   "execution_count": null,
   "metadata": {},
   "outputs": [],
   "source": [
    "# Create a dictionary (named list) in Python\n",
    "list1 = {'VecC': c, 'MatA': Mat_A, 'DatFrame': df}\n",
    "list1"
   ]
  },
  {
   "cell_type": "code",
   "execution_count": null,
   "metadata": {},
   "outputs": [],
   "source": [
    "# Examine the structure of the dictionary\n",
    "for k, v in list1.items():\n",
    "    print(f'{k}: {type(v)}')"
   ]
  },
  {
   "cell_type": "code",
   "execution_count": null,
   "metadata": {},
   "outputs": [],
   "source": [
    "# Access dictionary components\n",
    "list1['VecC']  # vector component"
   ]
  },
  {
   "cell_type": "code",
   "execution_count": null,
   "metadata": {},
   "outputs": [],
   "source": [
    "list1['MatA']  # matrix component"
   ]
  },
  {
   "cell_type": "code",
   "execution_count": null,
   "metadata": {},
   "outputs": [],
   "source": [
    "list1['DatFrame']  # data frame component"
   ]
  },
  {
   "cell_type": "markdown",
   "metadata": {},
   "source": [
    "---\n",
    "### **1.4 Type Conversion**\n",
    "\n",
    "Python allows implicit and explicit type conversions. However, Python typically avoids implicit conversion between non-numeric types."
   ]
  },
  {
   "cell_type": "markdown",
   "metadata": {},
   "source": [
    "#### **1.4.1 Explicit Type Conversion**"
   ]
  },
  {
   "cell_type": "code",
   "execution_count": null,
   "metadata": {},
   "outputs": [],
   "source": [
    "int(\"42\")        # String → Integer → 42"
   ]
  },
  {
   "cell_type": "code",
   "execution_count": null,
   "metadata": {},
   "outputs": [],
   "source": [
    "float(True)      # Boolean → Float → 1.0"
   ]
  },
  {
   "cell_type": "code",
   "execution_count": null,
   "metadata": {},
   "outputs": [],
   "source": [
    "str(3.14)        # Float → String → \"3.14\""
   ]
  },
  {
   "cell_type": "code",
   "execution_count": null,
   "metadata": {},
   "outputs": [],
   "source": [
    "list((1, 2))     # Tuple → List → [1, 2]"
   ]
  },
  {
   "cell_type": "markdown",
   "metadata": {},
   "source": [
    "#### **1.4.2 Implicit Type Conversion**\n",
    "\n",
    "General Rule: bool → int → float → complex"
   ]
  },
  {
   "cell_type": "code",
   "execution_count": null,
   "metadata": {},
   "outputs": [],
   "source": [
    "True + 5      # bool→int → 6"
   ]
  },
  {
   "cell_type": "code",
   "execution_count": null,
   "metadata": {},
   "outputs": [],
   "source": [
    "3 + 5.0       # int→float → 8.0"
   ]
  },
  {
   "cell_type": "code",
   "execution_count": null,
   "metadata": {},
   "outputs": [],
   "source": [
    "2.5 + 3j      # float→complex → (2.5+3j)"
   ]
  },
  {
   "cell_type": "code",
   "execution_count": null,
   "metadata": {},
   "outputs": [],
   "source": [
    "mixed1 = (1 , 'a'); mixed1 # integer and string"
   ]
  },
  {
   "cell_type": "code",
   "execution_count": null,
   "metadata": {},
   "outputs": [],
   "source": [
    "type(mixed1)"
   ]
  },
  {
   "cell_type": "code",
   "execution_count": null,
   "metadata": {},
   "outputs": [],
   "source": [
    "list_mixed2 = [True, 'a']  # logical value coerced to string in R, but not in Python\n",
    "list_mixed2"
   ]
  },
  {
   "cell_type": "code",
   "execution_count": null,
   "metadata": {},
   "outputs": [],
   "source": [
    "list_mixed3 = [True, 1]  # logical value is coerced to numeric in R, in Python True==1\n",
    "list_mixed3"
   ]
  },
  {
   "cell_type": "code",
   "execution_count": null,
   "metadata": {},
   "outputs": [],
   "source": [
    "# All elements are coerced to string in numpy array if types differ\n",
    "nparray = np.array([5, False, 4.6, 'No']); nparray"
   ]
  }
 ],
 "metadata": {
  "kernelspec": {
   "display_name": "Python 3 (ipykernel)",
   "language": "python",
   "name": "python3"
  },
  "language_info": {
   "codemirror_mode": {
    "name": "ipython",
    "version": 3
   },
   "file_extension": ".py",
   "mimetype": "text/x-python",
   "name": "python",
   "nbconvert_exporter": "python",
   "pygments_lexer": "ipython3",
   "version": "3.12.7"
  }
 },
 "nbformat": 4,
 "nbformat_minor": 4
}

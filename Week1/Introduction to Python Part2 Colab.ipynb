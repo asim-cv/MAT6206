{
 "cells": [
  {
   "attachments": {},
   "cell_type": "markdown",
   "metadata": {},
   "source": [
    "# **Introduction to Python (Part 2)¶**\n",
    "\n",
    "## **2 Create, Manipulate and Summarise Data**\n",
    "In this section, you will be introduced to some of the basic and commonly used functions in R.This includes generating, importing, exporting, subsetting, summarising and plotting data."
   ]
  },
  {
   "cell_type": "code",
   "execution_count": null,
   "metadata": {},
   "outputs": [],
   "source": [
    "# Import necessary libraries\n",
    "import numpy as np\n",
    "import pandas as pd\n",
    "import os\n",
    "from google.colab import files #Uncomment if you are using Google Colab\n",
    "import io\n",
    "import random\n",
    "from scipy import stats"
   ]
  },
  {
   "attachments": {},
   "cell_type": "markdown",
   "metadata": {},
   "source": [
    "---\n",
    "### **2.1 Generating Numbers and Sequences**\n",
    "\n",
    "#### **2.1.1 Random Numbers**\n",
    "**Note:** The numbers show here are likely to be different to what you will have as these are randomly generated numbers."
   ]
  },
  {
   "cell_type": "code",
   "execution_count": null,
   "metadata": {},
   "outputs": [],
   "source": [
    "# 20 random numbers between 1 and 10 (inclusive)\n",
    "x1 = np.random.randint(1, 11, size=20)\n",
    "x1"
   ]
  },
  {
   "cell_type": "code",
   "execution_count": null,
   "metadata": {},
   "outputs": [],
   "source": [
    "# 20 random numbers between 5 and 15 from a Uniform distribution\n",
    "x2 = np.random.uniform(5, 15, 20)\n",
    "x2"
   ]
  },
  {
   "cell_type": "code",
   "execution_count": null,
   "metadata": {},
   "outputs": [],
   "source": [
    "# 20 random numbers from a normal distribution with mean=12 and sd=3\n",
    "x3 = np.random.normal(loc=12, scale=3, size=20)\n",
    "x3"
   ]
  },
  {
   "cell_type": "markdown",
   "metadata": {},
   "source": [
    "#### **2.1.2 Sequences and Repeat**"
   ]
  },
  {
   "cell_type": "code",
   "execution_count": null,
   "metadata": {},
   "outputs": [],
   "source": [
    "# A sequence from 1 to 20 with a 0.5 increment\n",
    "x4 = np.arange(1, 20.5, 0.5)\n",
    "x4"
   ]
  },
  {
   "cell_type": "code",
   "execution_count": null,
   "metadata": {},
   "outputs": [],
   "source": [
    "# Repeat the sequence {1,2,3,4,5} 5 times over\n",
    "x5 = np.tile(np.arange(1,6), 5)\n",
    "x5"
   ]
  },
  {
   "cell_type": "code",
   "execution_count": null,
   "metadata": {},
   "outputs": [],
   "source": [
    "# Repeat each element of the sequence {1,2,3,4,5} by 5 times\n",
    "x6 = np.repeat(np.arange(1,6), 5)\n",
    "x6"
   ]
  },
  {
   "cell_type": "code",
   "execution_count": null,
   "metadata": {},
   "outputs": [],
   "source": [
    "# Repeat each element of the sequence {1,2,3,4,5} by 3 times, then repeat that sequence 2 times\n",
    "x7 = np.tile(np.repeat(np.arange(1,6), 3), 2)\n",
    "x7"
   ]
  },
  {
   "attachments": {},
   "cell_type": "markdown",
   "metadata": {},
   "source": [
    "#### **2.1.3 Alphabets**"
   ]
  },
  {
   "cell_type": "code",
   "execution_count": null,
   "metadata": {},
   "outputs": [],
   "source": [
    "# List first 10 letters (lowercase)\n",
    "import string\n",
    "list(string.ascii_lowercase[:10])"
   ]
  },
  {
   "cell_type": "code",
   "execution_count": null,
   "metadata": {},
   "outputs": [],
   "source": [
    "# List first 10 letters (UPPERCASE)\n",
    "list(string.ascii_uppercase[:10])"
   ]
  },
  {
   "cell_type": "markdown",
   "metadata": {},
   "source": [
    "---\n",
    "## **2.2 Data Import/Export and Visualization**"
   ]
  },
  {
   "cell_type": "markdown",
   "metadata": {},
   "source": [
    "1. Direct File Upload (Best for small, temporary datasets) ***- Method 1***\n",
    "\n",
    "To upload files directly from your local machine, use the files.upload() method from Google Colab’s built-in module. This opens a file picker dialog, allowing you to select CSV, Excel, or other data files. The files are stored temporarily in the Colab runtime and disappear when the session ends."
   ]
  },
  {
   "cell_type": "code",
   "execution_count": null,
   "metadata": {},
   "outputs": [],
   "source": [
    "# Upload the ElderlyPopWA.csv file\n",
    "#uploaded = files.upload()\n",
    "#ElderlyPopWA = pd.read_csv(io.BytesIO(uploaded['ElderlyPopWA.csv']))"
   ]
  },
  {
   "cell_type": "markdown",
   "metadata": {},
   "source": [
    "3. Use the Dataset from GitHub. ***- Method 2***\n",
    "  \n",
    "Get the raw file URL and then load directly using this URL."
   ]
  },
  {
   "cell_type": "code",
   "execution_count": null,
   "metadata": {},
   "outputs": [],
   "source": [
    "url = \"https://raw.githubusercontent.com/asim-cv/MAT6206/refs/heads/main/Week1/ElderlyPopWA.csv\"\n",
    "ElderlyPopWA = pd.read_csv(url)\n",
    "ElderlyPopWA.head() # Show only the head"
   ]
  },
  {
   "cell_type": "code",
   "execution_count": null,
   "metadata": {},
   "outputs": [],
   "source": [
    "# Setting the default display style\n",
    "pd.reset_option('^display.', silent=True)  # The '^' targets all display options"
   ]
  },
  {
   "cell_type": "code",
   "execution_count": null,
   "metadata": {},
   "outputs": [],
   "source": [
    "# Uncomment the following lines if you want to see all the rows and columns\n",
    "# pd.set_option('display.max_rows', None)  # Show all rows\n",
    "# pd.set_option('display.max_columns', None)  # Show all columns\n",
    "display(ElderlyPopWA) # Using display function to view the data"
   ]
  },
  {
   "cell_type": "code",
   "execution_count": null,
   "metadata": {},
   "outputs": [],
   "source": [
    "# Downloading the Updated Dataset .csv file\n",
    "files.download('ElderlyPopWA.csv') #Replace the filename with the name of the file you want to download"
   ]
  },
  {
   "cell_type": "markdown",
   "metadata": {},
   "source": [
    "---\n",
    "## **2.3 Data Manipulation and Summaries**"
   ]
  },
  {
   "cell_type": "markdown",
   "metadata": {},
   "source": [
    "In pre-processing of data, we often want to categorise a group of individuals (which may be people, animals or objects) based on certain feature(s). Doing so often makes it easier to analyse the data and interpret the subsequent results.\n",
    "For example, suppose we wish to categorise the elderly female partipants (from the ElderlyPopWA dataset) into their respective BMI classes."
   ]
  },
  {
   "cell_type": "code",
   "execution_count": null,
   "metadata": {},
   "outputs": [],
   "source": [
    "# Create BMI categories for the elderly female participants\n",
    "# (Assumes ElderlyPopWA DataFrame is loaded)\n",
    "mBMI = ElderlyPopWA['BMI'].max()\n",
    "ElderlyPopWA['BMI_class'] = pd.cut(ElderlyPopWA['BMI'],\n",
    "     bins=[0,23,31,mBMI],\n",
    "     labels=['Underweight','Healthy_Weight','Overweight'])\n",
    "ElderlyPopWA"
   ]
  },
  {
   "attachments": {},
   "cell_type": "markdown",
   "metadata": {},
   "source": [
    "**Exercise:** Within the sample, how many elderly females are in each of the three BMI classes?\n",
    "\n",
    "In many instances, we are often interested in having a closer examination of a sub-sample of individuals based on particular group(s) they belong to (e.g. those of a particular gender, ethnicity, income bracket, etc), or by some thresholds (e.g. those who are 35 years old or younger). The following command allows us to perform this task."
   ]
  },
  {
   "cell_type": "code",
   "execution_count": null,
   "metadata": {
    "scrolled": true
   },
   "outputs": [],
   "source": [
    "# Subsetting by a categorical variable\n",
    "Underweight = ElderlyPopWA[ElderlyPopWA['BMI_class']=='Underweight']\n",
    "Underweight"
   ]
  },
  {
   "cell_type": "code",
   "execution_count": null,
   "metadata": {
    "scrolled": true
   },
   "outputs": [],
   "source": [
    "# Subsetting by a categorical variable\n",
    "# Selecting more than one value\n",
    "Unhealthy_weight = ElderlyPopWA[ElderlyPopWA['BMI_class'].isin(['Underweight','Overweight'])]\n",
    "Unhealthy_weight"
   ]
  },
  {
   "cell_type": "code",
   "execution_count": null,
   "metadata": {
    "scrolled": true
   },
   "outputs": [],
   "source": [
    "# Select a subset\n",
    "# Select those under 75 years of age, and select all columns\n",
    "Age_LT75 = ElderlyPopWA[ElderlyPopWA['Age'] < 75] \n",
    "Age_LT75"
   ]
  },
  {
   "cell_type": "code",
   "execution_count": null,
   "metadata": {
    "scrolled": true
   },
   "outputs": [],
   "source": [
    "# Select a subset\n",
    "# Select those under 75 years of age, but select fewer columns only\n",
    "# use : instead of ['BMI', 'Waist'] incase if all the columns are to be selected\n",
    "Age_LT75 = ElderlyPopWA.loc[ElderlyPopWA['Age']<75, ['BMI', 'Waist']]; Age_LT75"
   ]
  },
  {
   "cell_type": "code",
   "execution_count": null,
   "metadata": {
    "scrolled": true
   },
   "outputs": [],
   "source": [
    "# Select a subset by using \"~\" operator\n",
    "# Select those that are not under 75 years of age.\n",
    "Age_GTE75 = ElderlyPopWA[~(ElderlyPopWA['Age'] < 75)] \n",
    "Age_GTE75"
   ]
  },
  {
   "attachments": {},
   "cell_type": "markdown",
   "metadata": {},
   "source": [
    "---\n",
    "## **2.4\tDescriptive Statistics**"
   ]
  },
  {
   "attachments": {},
   "cell_type": "markdown",
   "metadata": {},
   "source": [
    "Once your dataset is pre-processed and cleaned, then it is a good idea to obtain some summary statistics on the variables to get a sense of how the data are distributed."
   ]
  },
  {
   "attachments": {},
   "cell_type": "markdown",
   "metadata": {},
   "source": [
    "### **2.4.1 Summarising Continuous Data**"
   ]
  },
  {
   "cell_type": "markdown",
   "metadata": {},
   "source": [
    "When describing a continuous variable (e.g. age, weight, height, etc), you should always address three aspects; the (1) centre, (2) spread and (3) shape."
   ]
  },
  {
   "cell_type": "markdown",
   "metadata": {},
   "source": [
    "#### Measure the Shape"
   ]
  },
  {
   "cell_type": "code",
   "execution_count": null,
   "metadata": {},
   "outputs": [],
   "source": [
    "ElderlyPopWA['Age'].mean()"
   ]
  },
  {
   "cell_type": "code",
   "execution_count": null,
   "metadata": {},
   "outputs": [],
   "source": [
    "ElderlyPopWA['Age'].median()"
   ]
  },
  {
   "cell_type": "markdown",
   "metadata": {},
   "source": [
    "#### Measure the Shape"
   ]
  },
  {
   "cell_type": "code",
   "execution_count": null,
   "metadata": {},
   "outputs": [],
   "source": [
    "ElderlyPopWA['Age'].std()"
   ]
  },
  {
   "cell_type": "code",
   "execution_count": null,
   "metadata": {},
   "outputs": [],
   "source": [
    "ElderlyPopWA['Age'].min(), ElderlyPopWA['Age'].max()"
   ]
  },
  {
   "cell_type": "code",
   "execution_count": null,
   "metadata": {},
   "outputs": [],
   "source": [
    "ElderlyPopWA['Age'].quantile([0.25,0.5,0.75])"
   ]
  },
  {
   "cell_type": "code",
   "execution_count": null,
   "metadata": {},
   "outputs": [],
   "source": [
    "np.percentile(ElderlyPopWA['Age'], [0,25,50,75,100])"
   ]
  },
  {
   "cell_type": "markdown",
   "metadata": {},
   "source": [
    "#### Measure the Spread"
   ]
  },
  {
   "attachments": {},
   "cell_type": "markdown",
   "metadata": {},
   "source": [
    "Skewness and kurtosis are two commonly used measures of shape. Skewness is a measure of symmetry where,\n",
    "\n",
    "-\tSkewness = 0, distribution is symmetrical;\n",
    "-\tSkewness < 0, distribution is left- or negatively-skewed, i.e. longer left tail;\n",
    "-\tSkewness > 0, distribution is right- or positively-skewed, i.e. longer right tail.\n",
    "\n",
    "Kurtosis is a measure of “tailness” in a distribution relative to a normal distribution.\n",
    "\n",
    "-\tKurtosis = 3, tails are that of a normal distribution, i.e. mesokurtic;\n",
    "-\tKurtosis < 3, tails are comparatively shorter than a normal distribution, i.e. platykurtic 3. Kurtosis > 3, tails are comparatively longer than a normal distribution, i.e. leptokurtic.\n",
    "\n",
    "To compute these two measures in Python, we require the *SCIPY* package."
   ]
  },
  {
   "cell_type": "code",
   "execution_count": null,
   "metadata": {},
   "outputs": [],
   "source": [
    "# Skewness and kurtosis (requires scipy.stats)\n",
    "stats.skew(ElderlyPopWA['Age'])"
   ]
  },
  {
   "cell_type": "code",
   "execution_count": null,
   "metadata": {},
   "outputs": [],
   "source": [
    "# Skewness and kurtosis (requires scipy.stats)\n",
    "stats.kurtosis(ElderlyPopWA['Age'])"
   ]
  },
  {
   "attachments": {},
   "cell_type": "markdown",
   "metadata": {},
   "source": [
    "The above values indicate that the variable Age is approximately symmetrically distributed with a slight positive skewness, and is platykurtic.\n",
    "\n",
    "**Exercise:** Standardised the Age variable (i.e. (x-mean)/sd), add it to the existing data frame (call it z_Age), and summarise it.\n",
    "There are other functions that allow you to obtain the summary statistics in a more efficient, in particular for large data frames."
   ]
  },
  {
   "cell_type": "markdown",
   "metadata": {},
   "source": [
    "#### Column-wise opeations"
   ]
  },
  {
   "cell_type": "code",
   "execution_count": null,
   "metadata": {},
   "outputs": [],
   "source": [
    "# Column means\n",
    "ElderlyPopWA.iloc[:,1:8].mean()"
   ]
  },
  {
   "cell_type": "code",
   "execution_count": null,
   "metadata": {},
   "outputs": [],
   "source": [
    "# Apply mean column-wise using axis=0, axis=1 implies row-wise\n",
    "ElderlyPopWA.iloc[:,1:8].apply(np.mean, axis=0)"
   ]
  },
  {
   "cell_type": "code",
   "execution_count": null,
   "metadata": {},
   "outputs": [],
   "source": [
    "# # Apply std column-wise using axis=0, axis=1 implies row-wise\n",
    "ElderlyPopWA.iloc[:,1:8].apply(np.std, axis=0)"
   ]
  },
  {
   "attachments": {},
   "cell_type": "markdown",
   "metadata": {},
   "source": [
    "### **2.4.2 Summarising Discrete and Categorical Data**"
   ]
  },
  {
   "attachments": {},
   "cell_type": "markdown",
   "metadata": {},
   "source": [
    "Frequencies and proportions are more appropriate When describing categorical or ordinal data. The latter is often treated and described like a continuous variable, but this should only be the case if the range of finite values is relatively large; for example, your final grade in the unit (as recorded in the system), which ranges between 0 and 100 and does not include any decimal value. If, say for example, a variable described by a 5-point Likert scale is to be summarised, then frequencies and proportions should be reported."
   ]
  },
  {
   "cell_type": "code",
   "execution_count": null,
   "metadata": {},
   "outputs": [],
   "source": [
    "# Number of participants in each BMI Class\n",
    "BMI_freq = ElderlyPopWA['BMI_class'].value_counts(); BMI_freq"
   ]
  },
  {
   "cell_type": "code",
   "execution_count": null,
   "metadata": {},
   "outputs": [],
   "source": [
    "# Proportions of the samples for each BMI Class\n",
    "BMI_prop = ElderlyPopWA['BMI_class'].value_counts(normalize=True); BMI_prop"
   ]
  },
  {
   "cell_type": "code",
   "execution_count": null,
   "metadata": {},
   "outputs": [],
   "source": [
    "# Create another categorical variable, i.e. age group\n",
    "ElderlyPopWA['Age_grp'] = pd.cut(ElderlyPopWA['Age'], [0,74.99,100], labels=['<75years','75+years'])\n",
    "tab = pd.crosstab(ElderlyPopWA['Age_grp'], ElderlyPopWA['BMI_class']); tab"
   ]
  },
  {
   "cell_type": "code",
   "execution_count": null,
   "metadata": {},
   "outputs": [],
   "source": [
    "# Checking the propotion of new variable, age group\n",
    "tab.div(tab.sum(axis=1), axis=0)  # Proportions by row"
   ]
  },
  {
   "cell_type": "code",
   "execution_count": null,
   "metadata": {},
   "outputs": [],
   "source": [
    "tab.div(tab.sum(axis=0), axis=1)  # Proportions by column"
   ]
  },
  {
   "cell_type": "code",
   "execution_count": null,
   "metadata": {},
   "outputs": [],
   "source": [
    "tab/tab.values.sum()  # Proportions relative to overall sample size"
   ]
  },
  {
   "cell_type": "markdown",
   "metadata": {},
   "source": [
    "### **2.4.3\tSummarising Continuous Data Across Sub-Groups**\n",
    "\n",
    "In addition to summarising the characteristics or features of a sample as a whole, we often want to summarise and compare the individuals across variaous sub-groups. We can split the data initially and then compute the relevant summary statistics.\n"
   ]
  },
  {
   "cell_type": "code",
   "execution_count": null,
   "metadata": {},
   "outputs": [],
   "source": [
    "# Summarise waist circumference by BMI class\n",
    "ElderlyPopWA.groupby('BMI_class', observed=True)['Waist'].mean() # Compute the mean"
   ]
  },
  {
   "cell_type": "code",
   "execution_count": null,
   "metadata": {},
   "outputs": [],
   "source": [
    "ElderlyPopWA.groupby('BMI_class', observed=True)['Waist'].std() # Compute the standard deviation"
   ]
  },
  {
   "cell_type": "code",
   "execution_count": null,
   "metadata": {},
   "outputs": [],
   "source": [
    "# Summarise waist circumference by BMI class and age group\n",
    "ElderlyPopWA.groupby(['BMI_class','Age_grp'], observed=True)['Waist'].mean() # Compute the mean"
   ]
  },
  {
   "cell_type": "code",
   "execution_count": null,
   "metadata": {},
   "outputs": [],
   "source": [
    "ElderlyPopWA.groupby(['BMI_class','Age_grp'], observed=True)['Waist'].std() # Compute the standard deviation"
   ]
  },
  {
   "cell_type": "code",
   "execution_count": null,
   "metadata": {},
   "outputs": [],
   "source": [
    "# Mean waist circumference by BMI Class, using apply\n",
    "ElderlyPopWA.groupby('BMI_class', observed=True)['Waist'].apply(np.mean)"
   ]
  },
  {
   "cell_type": "code",
   "execution_count": null,
   "metadata": {},
   "outputs": [],
   "source": [
    "ElderlyPopWA.groupby(['BMI_class','Age_grp'], observed=True)['Waist'].apply(np.mean) #BMI CLass and Age Group"
   ]
  },
  {
   "cell_type": "code",
   "execution_count": null,
   "metadata": {},
   "outputs": [],
   "source": [
    "# Round proportions\n",
    "np.round(ElderlyPopWA['BMI_class'].value_counts(normalize=True), 3)"
   ]
  },
  {
   "cell_type": "code",
   "execution_count": null,
   "metadata": {},
   "outputs": [],
   "source": [
    "# Chained operations with pandas\n",
    "ElderlyPopWA['BMI_class'].value_counts(normalize=True).round(3) # Round to 3 dp"
   ]
  },
  {
   "cell_type": "markdown",
   "metadata": {},
   "source": [
    "---\n",
    "## **4. Functions in Python**"
   ]
  },
  {
   "attachments": {},
   "cell_type": "markdown",
   "metadata": {},
   "source": [
    "Functions are used to encapsulate a sequence of commands that need to be executed multiple times, but perhaps under slightly different conditions. Functions allow one to automate common tasks in a more powerful and general way than copy-and-pasting, which can often lead to incidental mistakes (i.e. updating a variable name in one place, but not in another). Further, functions allows a developer to create an interface to the code, and communicate to the user the most important aspects of the code, rather than having to know every detail of the code.\n",
    "\n",
    "Control structures in Python allows you to control the flow of execution of a series of *Python commands*, and not having run the same set of commands repeatedly. Control structures are typically, though not necessarily, used inside of functions. The inclusion of control structures and functions will often improve the readability of the code.\n",
    "\n",
    "In this section, you will learn how to write your own function."
   ]
  },
  {
   "cell_type": "markdown",
   "metadata": {},
   "source": [
    "To define a function, use **def** followed by the function **name and parentheses ()**:"
   ]
  },
  {
   "cell_type": "code",
   "execution_count": null,
   "metadata": {},
   "outputs": [],
   "source": [
    "# Function definition and usage in Python\n",
    "def Greeting():\n",
    "    print(\"Hello! My name is XXXX\")"
   ]
  },
  {
   "cell_type": "markdown",
   "metadata": {},
   "source": [
    "To call a fucntion, run the function by typing its name with parentheses:"
   ]
  },
  {
   "cell_type": "code",
   "execution_count": null,
   "metadata": {},
   "outputs": [],
   "source": [
    "Greeting() # Calling a function"
   ]
  },
  {
   "cell_type": "markdown",
   "metadata": {},
   "source": [
    "The next aspect of a basic function in Python is the *function arguments*. These are the options that you can specify to the user that the user may explicity set for the function. The argument list is defined within the brackets of the function(.) directive. Values assigned to an argument list are passed to, and are typically used by the code within the body of a function. Otherwise there is no point in having an argument list.\n",
    "\n",
    "Suppose we wish to create a function that **adds 3** to any value that we pass into the function and outputs the sum.\n",
    "\n",
    "Use **return** to send a result back:"
   ]
  },
  {
   "cell_type": "code",
   "execution_count": null,
   "metadata": {},
   "outputs": [],
   "source": [
    "def add3(x):\n",
    "    return x + 3"
   ]
  },
  {
   "cell_type": "code",
   "execution_count": null,
   "metadata": {},
   "outputs": [],
   "source": [
    "add3(5) # Passing parameters"
   ]
  },
  {
   "cell_type": "code",
   "execution_count": null,
   "metadata": {},
   "outputs": [],
   "source": [
    "add3(10)"
   ]
  },
  {
   "cell_type": "code",
   "execution_count": null,
   "metadata": {},
   "outputs": [],
   "source": [
    "add3(15)"
   ]
  },
  {
   "cell_type": "markdown",
   "metadata": {},
   "source": [
    "Let’s step it up a bit and create a function that finds the sum, product and ratio between any two values, say x and y. The two values are to be specified by the user."
   ]
  },
  {
   "cell_type": "code",
   "execution_count": null,
   "metadata": {},
   "outputs": [],
   "source": [
    "def add_mult(x, y):\n",
    "    sum_xy = x + y\n",
    "    prod_xy = x * y\n",
    "    ratio_xy = x / y\n",
    "    return sum_xy, prod_xy, ratio_xy"
   ]
  },
  {
   "cell_type": "markdown",
   "metadata": {},
   "source": [
    "Let’s assign the values, 3 and 4 to x and y respectively, and pass them into the function."
   ]
  },
  {
   "cell_type": "code",
   "execution_count": null,
   "metadata": {},
   "outputs": [],
   "source": [
    "x = 3\n",
    "y = 4\n",
    "print(add_mult(x, y))"
   ]
  },
  {
   "cell_type": "code",
   "execution_count": null,
   "metadata": {},
   "outputs": [],
   "source": [
    "add_mult(x=3, y=4)"
   ]
  },
  {
   "cell_type": "code",
   "execution_count": null,
   "metadata": {},
   "outputs": [],
   "source": [
    "add_mult(y=4, x=3)"
   ]
  },
  {
   "cell_type": "code",
   "execution_count": null,
   "metadata": {},
   "outputs": [],
   "source": [
    "add_mult(3, 4)"
   ]
  },
  {
   "cell_type": "markdown",
   "metadata": {},
   "source": [
    "---\n",
    "## **5. IF-and-ELSE Statements in Python**"
   ]
  },
  {
   "attachments": {},
   "cell_type": "markdown",
   "metadata": {},
   "source": [
    "The if-and-else control structures are used to execute a set of commands only when a particular condition is satisfied, and performs the alternate set of commands if the conditions is not met. The else clause is not mandatory, and would apply in intances where no action is taken if the condition is not met."
   ]
  },
  {
   "attachments": {},
   "cell_type": "markdown",
   "metadata": {},
   "source": [
    "To start, let’s create an if statement that checks if a given positive integer is odd, and prints a statement that indicates this if it is true. Note that % is modulus operator and != is the not equals to logical operator."
   ]
  },
  {
   "cell_type": "code",
   "execution_count": null,
   "metadata": {},
   "outputs": [],
   "source": [
    "# If statement: check if x is odd\n",
    "x = 5\n",
    "if x % 2 != 0:\n",
    "    print(f'{x} is an odd integer')"
   ]
  },
  {
   "attachments": {},
   "cell_type": "markdown",
   "metadata": {},
   "source": [
    "Let’s now extend the above if statement to include else. Suppose now we want the code to print a statement that an positive integer is odd if it is true, otherwise print a statement that the integer is even."
   ]
  },
  {
   "cell_type": "code",
   "execution_count": null,
   "metadata": {},
   "outputs": [],
   "source": [
    "# If-else statement: check if x is odd or even\n",
    "x = 10\n",
    "if x % 2 != 0:\n",
    "    print(f'{x} is an odd integer')\n",
    "else:\n",
    "    print(f'{x} is an even integer')"
   ]
  },
  {
   "cell_type": "markdown",
   "metadata": {},
   "source": [
    "We can also include multiple conditions in an if-and-else statement by using else if. For example, suppose you wish to know your grade (i.e. N, P, C, D and HD) for a unit based on your final score."
   ]
  },
  {
   "cell_type": "code",
   "execution_count": null,
   "metadata": {},
   "outputs": [],
   "source": [
    "# Nested if-elif-else for grading\n",
    "score = 65\n",
    "if score < 0:\n",
    "    print('Invalid score!')\n",
    "elif score < 50:\n",
    "    print('Your final grade is N.')\n",
    "elif score < 60:\n",
    "    print('Your final grade is P.')\n",
    "elif score < 70:\n",
    "    print('Your final grade is C.')\n",
    "elif score < 80:\n",
    "    print('Your final grade is D.')\n",
    "elif score <= 100:\n",
    "    print('Your final grade is HD.')\n",
    "else:\n",
    "    print('Invalid score!')"
   ]
  },
  {
   "cell_type": "markdown",
   "metadata": {},
   "source": [
    "## **6. Loops: FOR loop in Python**"
   ]
  },
  {
   "attachments": {},
   "cell_type": "markdown",
   "metadata": {},
   "source": [
    "A for loop executes repetitive code statements for a definite number of iterations. Loops are commonly used to iterate over the elements of vectors, columns (or rows for matrices) of data frames and components of lists.\n",
    "\n",
    "Let’s begin with a loop that repeats itself 10 time over."
   ]
  },
  {
   "cell_type": "code",
   "execution_count": null,
   "metadata": {},
   "outputs": [],
   "source": [
    "# For loop from 1 to 10\n",
    "for I in range(1, 11):\n",
    "    print(I)"
   ]
  },
  {
   "cell_type": "markdown",
   "metadata": {},
   "source": [
    "The variable I in the for loop acts as a counter that starts at 1, the command(s) (in this instance it is just a print command) within the loop are then executed. I then increases by 1 to be 2, and the commands are executed again. This process continues until I equals to 10. Note that I is just a variable name, and you can quite easily use another name. Furthermore, the count does not necessary have to start at 1.\n",
    "\n",
    "We often take advantage of the counter and incorporate it into the commands and run them systematically through, say a data frame or list. For example, suppose we want to generate the means for the continous measurements (i.e. columns 2 to 8) in the ElderlyPopWA dataset. We can systematically move from one column to the next and generate their means using a for loop.\n"
   ]
  },
  {
   "cell_type": "code",
   "execution_count": null,
   "metadata": {},
   "outputs": [],
   "source": [
    "# For loop to print mean of columns 2 to 8 (assumes ElderlyPopWA is loaded)\n",
    "dat = ElderlyPopWA.copy()\n",
    "for J in range(1, 8):\n",
    "    print(dat.iloc[:, J].mean().round(3))"
   ]
  },
  {
   "cell_type": "markdown",
   "metadata": {},
   "source": [
    "If-and-else statements are often defined within a for loop to control the execution of certain sets of commands. For example, suppose we want to print out all numbers between 1 and 100 that are divisible by 7 only."
   ]
  },
  {
   "cell_type": "code",
   "execution_count": null,
   "metadata": {},
   "outputs": [],
   "source": [
    "# For loop: print numbers divisible by 7 from 1 to 100\n",
    "for I in range(1, 101):\n",
    "    if I % 7 == 0:\n",
    "        print(I)"
   ]
  },
  {
   "cell_type": "markdown",
   "metadata": {},
   "source": [
    "If-and-else statements in for loops are often used to break from the loop when a condition is met. For example, suppose we want to print out the first 10 numbers between 500 and 800 that are divisible by 13."
   ]
  },
  {
   "cell_type": "code",
   "execution_count": null,
   "metadata": {},
   "outputs": [],
   "source": [
    "# For loop: print first 10 numbers divisible by 13 between 500 and 800\n",
    "count = 0\n",
    "for I in range(500, 801):\n",
    "    if I % 13 == 0:\n",
    "        print(I)\n",
    "        count += 1\n",
    "    if count == 10:\n",
    "        break"
   ]
  }
 ],
 "metadata": {
  "kernelspec": {
   "display_name": "Python 3 (ipykernel)",
   "language": "python",
   "name": "python3"
  },
  "language_info": {
   "codemirror_mode": {
    "name": "ipython",
    "version": 3
   },
   "file_extension": ".py",
   "mimetype": "text/x-python",
   "name": "python",
   "nbconvert_exporter": "python",
   "pygments_lexer": "ipython3",
   "version": "3.12.7"
  }
 },
 "nbformat": 4,
 "nbformat_minor": 4
}

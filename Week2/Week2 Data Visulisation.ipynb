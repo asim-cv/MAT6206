{
 "cells": [
  {
   "cell_type": "markdown",
   "metadata": {},
   "source": [
    "# 2. Data Visualization with Matplotlib and Seaborn\n",
    "\n",
    "This notebook demonstrates various data visualization techniques using Python's matplotlib and seaborn libraries.\n",
    "\n",
    "Matplotlib is the primary plotting library for Python. The `pyplot` module provides a MATLAB-like interface for creating plots, charts, and visualizations.\n",
    "\n",
    "Seaborn is a statistical data visualization library built on top of matplotlib. It provides a high-level interface for drawing attractive and informative statistical graphics.\n"
   ]
  },
  {
   "cell_type": "code",
   "execution_count": null,
   "metadata": {},
   "outputs": [],
   "source": [
    "# Import required libraries\n",
    "import pandas as pd\n",
    "import numpy as np\n",
    "import matplotlib.pyplot as plt\n",
    "import seaborn as sns\n",
    "\n",
    "# Set the style for better-looking plots\n",
    "plt.style.use('default')\n",
    "sns.set_palette(\"husl\")\n",
    "\n",
    "# Display plots inline in the notebook\n",
    "%matplotlib inline"
   ]
  },
  {
   "cell_type": "markdown",
   "metadata": {},
   "source": [
    "## 2.1 Bar Plot\n",
    "\n",
    "First, we'll create a dataset showing the highest education levels and their corresponding frequencies."
   ]
  },
  {
   "cell_type": "code",
   "execution_count": null,
   "metadata": {},
   "outputs": [],
   "source": [
    "# Define education levels and their frequencies\n",
    "education_levels = [\"Below high school\", \"High school graduate\", \n",
    "                   \"TAFE degree\", \"Bachelor's degree\", \"Postgraduate degree\"]\n",
    "frequencies = [46000, 120000, 75000, 50000, 9000]\n",
    "\n",
    "# Calculate percentages\n",
    "percentages = [freq / sum(frequencies) * 100 for freq in frequencies]\n",
    "\n",
    "# Create a DataFrame\n",
    "df_edu = pd.DataFrame({\n",
    "    'Education': education_levels,\n",
    "    'Frequency': frequencies,\n",
    "    'Percentage': percentages\n",
    "})\n",
    "\n",
    "# Display the DataFrame\n",
    "print(\"Education Data:\")\n",
    "print(df_edu)\n",
    "df_edu"
   ]
  },
  {
   "cell_type": "markdown",
   "metadata": {},
   "source": [
    "### 2.1.1 Education Dataset and Basic Bar Plot\n",
    "\n",
    "Create a simple bar plot showing education levels vs frequencies. Barcharts are an effective way to visualise categorical and (short finite range) discrete data."
   ]
  },
  {
   "cell_type": "code",
   "execution_count": null,
   "metadata": {},
   "outputs": [],
   "source": [
    "# Create a basic bar plot\n",
    "plt.figure(figsize=(10, 6))\n",
    "plt.bar(df_edu['Education'], df_edu['Frequency'])\n",
    "plt.title('Education Levels vs Frequency')\n",
    "plt.xlabel('Education Level')\n",
    "plt.ylabel('Frequency')\n",
    "plt.xticks(rotation=45)\n",
    "plt.tight_layout()\n",
    "plt.show()"
   ]
  },
  {
   "cell_type": "markdown",
   "metadata": {},
   "source": [
    "### 2.1.2 Styled Bar Plot\n",
    "\n",
    "Create a bar plot with custom colors and transparency."
   ]
  },
  {
   "cell_type": "code",
   "execution_count": null,
   "metadata": {},
   "outputs": [],
   "source": [
    "# Create a styled bar plot with custom colors\n",
    "plt.figure(figsize=(10, 6))\n",
    "bars = plt.bar(df_edu['Education'], df_edu['Frequency'], \n",
    "               color='salmon', edgecolor='red', alpha=0.5)\n",
    "\n",
    "plt.title('Education Levels vs Frequency')\n",
    "plt.xlabel('Education Level')\n",
    "plt.ylabel('Frequency')\n",
    "plt.xticks(rotation=45)\n",
    "plt.tight_layout()\n",
    "plt.show()"
   ]
  },
  {
   "cell_type": "markdown",
   "metadata": {},
   "source": [
    "### 2.1.3 Horizontal Bar Plot\n",
    "\n",
    "Create a horizontal bar plot for better readability of long labels."
   ]
  },
  {
   "cell_type": "code",
   "execution_count": null,
   "metadata": {},
   "outputs": [],
   "source": [
    "# Create a horizontal bar plot\n",
    "plt.figure(figsize=(10, 6))\n",
    "bars = plt.barh(df_edu['Education'], df_edu['Frequency'], \n",
    "                color='salmon', edgecolor='red', alpha=0.5)\n",
    "\n",
    "plt.title('Education Levels vs Frequency')\n",
    "plt.xlabel('Frequency')\n",
    "plt.ylabel('Education Level')\n",
    "plt.tight_layout()\n",
    "plt.show()"
   ]
  },
  {
   "cell_type": "markdown",
   "metadata": {},
   "source": [
    "### 2.1.4 Clean Bar Plot with Minimal Theme\n",
    "\n",
    "Create a clean bar plot with minimal styling and proper formatting."
   ]
  },
  {
   "cell_type": "code",
   "execution_count": null,
   "metadata": {},
   "outputs": [],
   "source": [
    "# Create a clean bar plot with minimal theme\n",
    "fig, ax = plt.subplots(figsize=(12, 6))\n",
    "\n",
    "# Create the bar plot\n",
    "bars = ax.bar(df_edu['Education'], df_edu['Frequency'], \n",
    "              color='salmon', edgecolor='red', alpha=0.5)\n",
    "\n",
    "# Customize the plot\n",
    "ax.set_title('Highest Level of Education Attained', fontsize=16, pad=20)\n",
    "ax.set_xlabel('Highest Education')\n",
    "ax.set_ylabel('Frequency')\n",
    "\n",
    "# Rotate x-axis labels for better readability\n",
    "ax.tick_params(axis='x', rotation=45)\n",
    "\n",
    "# Remove grid lines for cleaner look\n",
    "ax.grid(False)\n",
    "\n",
    "# Adjust layout\n",
    "plt.tight_layout()\n",
    "plt.show()"
   ]
  },
  {
   "cell_type": "markdown",
   "metadata": {},
   "source": [
    "### 2.1.5 Color-Coded Bar Plot\n",
    "\n",
    "Create a bar plot where each education level has its own color."
   ]
  },
  {
   "cell_type": "code",
   "execution_count": null,
   "metadata": {},
   "outputs": [],
   "source": [
    "# Create a color-coded bar plot\n",
    "fig, ax = plt.subplots(figsize=(12, 6))\n",
    "\n",
    "# Create the bar plot with different colors for each category\n",
    "colors = ['#FF6B6B', '#4ECDC4', '#45B7D1', '#96CEB4', '#FFEAA7']\n",
    "bars = ax.bar(df_edu['Education'], df_edu['Frequency'], \n",
    "              color=colors, alpha=0.7)\n",
    "\n",
    "# Customize the plot\n",
    "ax.set_title('Education Levels Distribution', fontsize=16, pad=20)\n",
    "ax.set_xlabel('')\n",
    "ax.set_ylabel('Frequency')\n",
    "\n",
    "# Remove x-axis tick labels and marks for cleaner look\n",
    "ax.set_xticklabels([])\n",
    "ax.tick_params(axis='x', which='both', length=0)\n",
    "\n",
    "# Add legend\n",
    "legend_elements = [plt.Rectangle((0,0),1,1, facecolor=color, alpha=0.7) \n",
    "                   for color in colors]\n",
    "ax.legend(legend_elements, df_edu['Education'], \n",
    "          title='Education', loc='upper right')\n",
    "\n",
    "plt.tight_layout()\n",
    "plt.show()"
   ]
  },
  {
   "cell_type": "markdown",
   "metadata": {},
   "source": [
    "### 2.2.1 Fish Catching Data Simulation\n",
    "\n",
    "For the next example, let us generate some random data for the number of herrings caught at Busselton jetty from morning (6-9 am) and evening (5-8 pm) over a span of 150 days. Here, we note that the maximum number of fishers surveyed is 6 in any sampling frame, i.e. discrete data."
   ]
  },
  {
   "cell_type": "code",
   "execution_count": null,
   "metadata": {},
   "outputs": [],
   "source": [
    "# Set random seed for reproducibility\n",
    "np.random.seed(2)\n",
    "\n",
    "# Generate fish catching data\n",
    "fish_caught = np.random.choice(\n",
    "    range(16),  # Values from 0 to 15\n",
    "    size=300,   # Number of samples\n",
    "    replace=True,\n",
    "    p=[0.11, 0.1, 0.1, 0.09, 0.09, 0.09, 0.09, 0.08, 0.07, \n",
    "       0.04, 0.04, 0.04, 0.03, 0.01, 0.01, 0.01]  # Probability weights\n",
    ")\n",
    "\n",
    "# Generate number of fishers\n",
    "num_fisher = np.random.choice(\n",
    "    range(1, 7),  # Values from 1 to 6\n",
    "    size=300,\n",
    "    replace=True,\n",
    "    p=[0.06, 0.11, 0.16, 0.17, 0.22, 0.28]  # Probability weights\n",
    ")\n",
    "\n",
    "# Generate time of day data\n",
    "time_of_day = np.repeat(['Morning', 'Evening'], 150)\n",
    "\n",
    "# Create the DataFrame\n",
    "df_fish = pd.DataFrame({\n",
    "    'num_fisher': num_fisher,\n",
    "    'ToD': time_of_day,\n",
    "    'fish_caught': fish_caught\n",
    "})\n",
    "\n",
    "# Convert num_fisher to categorical\n",
    "df_fish['num_fisher'] = df_fish['num_fisher'].astype('category')\n",
    "\n",
    "print(\"Fish Catching Data (first 10 rows):\")\n",
    "print(df_fish.head(10))\n",
    "print(f\"\\nTotal rows: {len(df_fish)}\")"
   ]
  },
  {
   "cell_type": "markdown",
   "metadata": {},
   "source": [
    "### 2.2.2 Aggregate Fish Data by Number of Fishers\n",
    "\n",
    "Calculate total fish caught for each number of fishers."
   ]
  },
  {
   "cell_type": "code",
   "execution_count": null,
   "metadata": {},
   "outputs": [],
   "source": [
    "# Aggregate total fish caught by number of fishers\n",
    "tot_fishers = df_fish.groupby('num_fisher')['fish_caught'].sum().reset_index()\n",
    "tot_fishers.columns = ['num_fisher', 'fish_caught']\n",
    "\n",
    "print(\"Total Fish Caught by Number of Fishers:\")\n",
    "print(tot_fishers)\n",
    "tot_fishers"
   ]
  },
  {
   "cell_type": "markdown",
   "metadata": {},
   "source": [
    "### 2.2.3 Bar Plot of Total Fish Caught\n",
    "\n",
    "Create a bar plot showing total fish caught for each number of fishers."
   ]
  },
  {
   "cell_type": "code",
   "execution_count": null,
   "metadata": {},
   "outputs": [],
   "source": [
    "# Create bar plot of total fish caught\n",
    "fig, ax = plt.subplots(figsize=(10, 6))\n",
    "\n",
    "bars = ax.bar(tot_fishers['num_fisher'], tot_fishers['fish_caught'], \n",
    "              color='salmon', edgecolor='red', alpha=0.5)\n",
    "\n",
    "# Customize the plot\n",
    "ax.set_title('Total Fish Caught by Number of Fishers', fontsize=16, pad=20)\n",
    "ax.set_xlabel('Number of Fishers')\n",
    "ax.set_ylabel('Total Fish Caught')\n",
    "\n",
    "plt.tight_layout()\n",
    "plt.show()"
   ]
  },
  {
   "cell_type": "markdown",
   "metadata": {},
   "source": [
    "### 2.2.4 Aggregate Fish Data by Number of Fishers and Time of Day\n",
    "\n",
    "Calculate total fish caught for each combination of number of fishers and time of day."
   ]
  },
  {
   "cell_type": "code",
   "execution_count": null,
   "metadata": {},
   "outputs": [],
   "source": [
    "# Aggregate total fish caught by number of fishers and time of day\n",
    "tot_fishers_tod = df_fish.groupby(['num_fisher', 'ToD'])['fish_caught'].sum().reset_index()\n",
    "tot_fishers_tod.columns = ['num_fisher', 'ToD', 'fish_caught']\n",
    "\n",
    "print(\"Total Fish Caught by Number of Fishers and Time of Day:\")\n",
    "print(tot_fishers_tod)\n",
    "tot_fishers_tod"
   ]
  },
  {
   "cell_type": "markdown",
   "metadata": {},
   "source": [
    "### 2.2.5 Grouped Bar Plot\n",
    "\n",
    "Create a grouped bar plot showing fish caught by number of fishers, colored by time of day."
   ]
  },
  {
   "cell_type": "code",
   "execution_count": null,
   "metadata": {},
   "outputs": [],
   "source": [
    "# Create grouped bar plot using seaborn for easier handling\n",
    "plt.figure(figsize=(12, 6))\n",
    "\n",
    "# Use seaborn's barplot for easier grouped bar creation\n",
    "sns.barplot(data=tot_fishers_tod, x='num_fisher', y='fish_caught', hue='ToD', alpha=0.7)\n",
    "\n",
    "plt.title('Total Fish Caught by Number of Fishers and Time of Day', fontsize=16, pad=20)\n",
    "plt.xlabel('Number of Fishers')\n",
    "plt.ylabel('Total Fish Caught')\n",
    "plt.legend(title='Time of Day')\n",
    "\n",
    "plt.tight_layout()\n",
    "plt.show()"
   ]
  },
  {
   "cell_type": "markdown",
   "metadata": {},
   "source": [
    "### 2.2.6 Dodged Bar Plot with Custom Positioning\n",
    "\n",
    "Create a dodged bar plot with custom positioning and spacing."
   ]
  },
  {
   "cell_type": "code",
   "execution_count": null,
   "metadata": {},
   "outputs": [],
   "source": [
    "# Create dodged bar plot with custom positioning\n",
    "plt.figure(figsize=(12, 6))\n",
    "\n",
    "# Use seaborn's barplot with dodge parameter for better control\n",
    "sns.barplot(data=tot_fishers_tod, x='num_fisher', y='fish_caught', hue='ToD', \n",
    "            alpha=0.7, dodge=True)\n",
    "\n",
    "plt.title('Total Fish Caught by Number of Fishers and Time of Day (Dodged)', fontsize=16, pad=20)\n",
    "plt.xlabel('Number of Fishers')\n",
    "plt.ylabel('Total Fish Caught')\n",
    "plt.legend(title='Time of Day')\n",
    "\n",
    "plt.tight_layout()\n",
    "plt.show()"
   ]
  },
  {
   "cell_type": "markdown",
   "metadata": {},
   "source": [
    "### 2.2.7 Standard Error Calculation\n",
    "\n",
    "Next, let us generate a barchart for the mean catch instead of total catch. Furthermore, We will add error bars to the plot. First we need to calculate the mean catch and the standard error of the mean."
   ]
  },
  {
   "cell_type": "code",
   "execution_count": null,
   "metadata": {},
   "outputs": [],
   "source": [
    "# Function to calculate standard error of the mean\n",
    "def standard_error(x):\n",
    "    \"\"\"Calculate standard error of the mean for a given array\"\"\"\n",
    "    return np.std(x) / np.sqrt(len(x))\n",
    "\n",
    "# Calculate mean catch by number of fishers and time of day\n",
    "mean_catch = df_fish.groupby(['num_fisher', 'ToD'])['fish_caught'].mean().reset_index()\n",
    "mean_catch.columns = ['num_fisher', 'ToD', 'fish_caught']\n",
    "\n",
    "# Calculate standard error of the mean\n",
    "se_catch = df_fish.groupby(['num_fisher', 'ToD'])['fish_caught'].agg(standard_error).reset_index()\n",
    "se_catch.columns = ['num_fisher', 'ToD', 'SE']\n",
    "\n",
    "# Merge mean and standard error data\n",
    "mean_catch = mean_catch.merge(se_catch, on=['num_fisher', 'ToD'])\n",
    "\n",
    "# Calculate confidence intervals (lower and upper bounds)\n",
    "mean_catch['LB'] = mean_catch['fish_caught'] - mean_catch['SE']\n",
    "mean_catch['UB'] = mean_catch['fish_caught'] + mean_catch['SE']\n",
    "\n",
    "print(\"Mean Fish Caught with Standard Errors:\")\n",
    "print(mean_catch)\n",
    "mean_catch"
   ]
  },
  {
   "cell_type": "markdown",
   "metadata": {},
   "source": [
    "### 2.2.8 Bar Plot with Error Bars\n",
    "\n",
    "Create a bar plot with error bars showing mean fish caught and standard errors."
   ]
  },
  {
   "cell_type": "code",
   "execution_count": null,
   "metadata": {},
   "outputs": [],
   "source": [
    "# Create bar plot with error bars\n",
    "fig, ax = plt.subplots(figsize=(12, 6))\n",
    "\n",
    "# Get unique values for positioning\n",
    "fisher_counts = sorted(mean_catch['num_fisher'].unique())\n",
    "time_periods = mean_catch['ToD'].unique()\n",
    "\n",
    "# Set up bar positions\n",
    "x = np.arange(len(fisher_counts))\n",
    "width = 0.35\n",
    "\n",
    "# Create bars for each time period with error bars\n",
    "colors = ['salmon', 'darkcyan']\n",
    "bars = []\n",
    "\n",
    "for i, tod in enumerate(time_periods):\n",
    "    data = mean_catch[mean_catch['ToD'] == tod]\n",
    "    data = data.sort_values('num_fisher')\n",
    "    \n",
    "    # Create bars\n",
    "    bar = ax.bar(x + i*width, data['fish_caught'], width, \n",
    "                 label=tod, color=colors[i], alpha=0.7)\n",
    "    bars.append(bar)\n",
    "    \n",
    "    # Add error bars\n",
    "    ax.errorbar(x + i*width, data['fish_caught'], \n",
    "                yerr=[data['fish_caught'] - data['LB'], data['UB'] - data['fish_caught']],\n",
    "                fmt='none', color='black', capsize=5, capthick=1.5, linewidth=1.25)\n",
    "\n",
    "# Customize the plot\n",
    "ax.set_title('Mean Fish Caught by Number of Fishers and Time of Day (with SE)', fontsize=16, pad=20)\n",
    "ax.set_xlabel('Number of Fishers')\n",
    "ax.set_ylabel('Mean Fish Caught')\n",
    "ax.set_xticks(x + width/2)\n",
    "ax.set_xticklabels(fisher_counts)\n",
    "ax.legend(title='Time of Day')\n",
    "\n",
    "plt.tight_layout()\n",
    "plt.show()"
   ]
  },
  {
   "cell_type": "markdown",
   "metadata": {},
   "source": [
    "### 2.2.9 Alternative Error Bar Plot using Seaborn\n",
    "\n",
    "Create the same error bar plot using seaborn's built-in functionality."
   ]
  },
  {
   "cell_type": "code",
   "execution_count": null,
   "metadata": {},
   "outputs": [],
   "source": [
    "# Create error bar plot using seaborn\n",
    "plt.figure(figsize=(12, 6))\n",
    "\n",
    "# Use seaborn's barplot with error bars\n",
    "sns.barplot(data=df_fish, x='num_fisher', y='fish_caught', hue='ToD', \n",
    "            alpha=0.7, ci=68)  # ci=68 gives approximately 1 standard error\n",
    "\n",
    "plt.title('Mean Fish Caught by Number of Fishers and Time of Day (with SE)', fontsize=16, pad=20)\n",
    "plt.xlabel('Number of Fishers')\n",
    "plt.ylabel('Mean Fish Caught')\n",
    "plt.legend(title='Time of Day')\n",
    "\n",
    "plt.tight_layout()\n",
    "plt.show()"
   ]
  },
  {
   "cell_type": "markdown",
   "metadata": {},
   "source": [
    "Exercise: Compare the barcharts for total catch and mean catch. What is the difference between the two plots and what can you conclude about the catch rate and catch total and how they vary across time and with increasing number of fishers?"
   ]
  },
  {
   "cell_type": "markdown",
   "metadata": {},
   "source": [
    "### 2.2.10 Summary Statistics\n",
    "\n",
    "Display summary statistics for the fish catching data."
   ]
  },
  {
   "cell_type": "code",
   "execution_count": null,
   "metadata": {},
   "outputs": [],
   "source": [
    "# Display summary statistics\n",
    "print(\"Summary Statistics by Number of Fishers:\")\n",
    "summary_by_fishers = df_fish.groupby('num_fisher')['fish_caught'].agg(['count', 'mean', 'std', 'min', 'max'])\n",
    "print(summary_by_fishers)\n",
    "\n",
    "print(\"\\nSummary Statistics by Time of Day:\")\n",
    "summary_by_time = df_fish.groupby('ToD')['fish_caught'].agg(['count', 'mean', 'std', 'min', 'max'])\n",
    "print(summary_by_time)\n",
    "\n",
    "print(\"\\nSummary Statistics by Number of Fishers and Time of Day:\")\n",
    "summary_combined = df_fish.groupby(['num_fisher', 'ToD'])['fish_caught'].agg(['count', 'mean', 'std', 'min', 'max'])\n",
    "print(summary_combined)"
   ]
  },
  {
   "cell_type": "markdown",
   "metadata": {},
   "source": [
    "### 2.2 Histogram and Elderly Population Data Analysis\n",
    "\n",
    "A great way to visualise continuous and (long range) discrete data is with histograms. A histogram is similar to a barchart in that it is a frequency plot. However for the latter, which are appropriate for visualising qualitative and discrete data, the categories (along the horizontal axis) are pre-defined. With histograms, these ‘categories’ are intervals (or bins), the width of which is specified by the user. The only criterion is that the intervals must all be the same width.\n",
    "\n",
    "Given this, it is quite important to select the appropriate bin width for a histogram as it will impact the overall shape of the distribution. A rough guideline is to select a bin width such that each interval has at least 5 observations, and this is particular useful guide for data with 𝑛 < 50. For larger datasets, it is more about the number of bins, and in general, 10-20 bins will often suffice. Having said this, you should always explore difference values and find one that best illustrates the data distribution.\n",
    "\n",
    "Let us revisit the ElderlyPopWA dataset and create a histogram for the BMI variable. Load the dataset by clicking on Import Dataset in the Environment panel, or use the read_csv(.) command.\n"
   ]
  },
  {
   "cell_type": "code",
   "execution_count": null,
   "metadata": {},
   "outputs": [],
   "source": [
    "# Create simulated elderly population data (since the original file isn't available)\n",
    "url = \"https://raw.githubusercontent.com/asim-cv/MAT6206/refs/heads/main/Datasets/ElderlyPopWA.csv\"\n",
    "ElderlyPopWA = pd.read_csv(url)\n",
    "\n",
    "print(\"Elderly Population Data (first 10 rows):\")\n",
    "print(ElderlyPopWA.head(10))\n",
    "print(f\"\\nTotal rows: {len(ElderlyPopWA)}\")\n",
    "print(f\"\\nBMI Statistics:\")\n",
    "print(ElderlyPopWA['BMI'].describe())"
   ]
  },
  {
   "cell_type": "markdown",
   "metadata": {},
   "source": [
    "### 2.2.1 Basic Histogram\n",
    "\n",
    "Create a basic histogram of BMI distribution."
   ]
  },
  {
   "cell_type": "code",
   "execution_count": null,
   "metadata": {},
   "outputs": [],
   "source": [
    "# Create basic histogram of BMI\n",
    "plt.figure(figsize=(10, 6))\n",
    "plt.hist(ElderlyPopWA['BMI'], bins=20, alpha=0.7, color='steelblue', edgecolor='white')\n",
    "plt.title('BMI Distribution')\n",
    "plt.xlabel('BMI')\n",
    "plt.ylabel('Frequency')\n",
    "plt.grid(True, alpha=0.3)\n",
    "plt.tight_layout()\n",
    "plt.show()"
   ]
  },
  {
   "cell_type": "markdown",
   "metadata": {},
   "source": [
    "### 2.2.2 Styled Histogram with Custom Settings\n",
    "\n",
    "Create a styled histogram with custom bin width and colors."
   ]
  },
  {
   "cell_type": "code",
   "execution_count": null,
   "metadata": {},
   "outputs": [],
   "source": [
    "# Create styled histogram with custom settings\n",
    "plt.figure(figsize=(10, 6))\n",
    "plt.hist(ElderlyPopWA['BMI'], bins=np.arange(15, 40, 3), \n",
    "         color='steelblue', edgecolor='white', alpha=0.7)\n",
    "\n",
    "plt.title('BMI Distribution')\n",
    "plt.xlabel('BMI')\n",
    "plt.ylabel('Frequency')\n",
    "plt.xlim(15, 40)  # Set x-axis limits\n",
    "plt.grid(True, alpha=0.3)\n",
    "plt.tight_layout()\n",
    "plt.show()"
   ]
  },
  {
   "cell_type": "markdown",
   "metadata": {},
   "source": [
    "Exercise: Describe the BMI data in relation to centre, spread and shape. Similarly, plot a histogram for Waist, Hip, Tricep, Arm Girth and Percent Body Fat and describe the them."
   ]
  },
  {
   "cell_type": "markdown",
   "metadata": {},
   "source": [
    "### 2.2.3 Create BMI Categories\n",
    "\n",
    "Categorize BMI values into weight classes."
   ]
  },
  {
   "cell_type": "code",
   "execution_count": null,
   "metadata": {},
   "outputs": [],
   "source": [
    "# Create BMI categories for the elderly participants\n",
    "max_bmi = ElderlyPopWA['BMI'].max()  # Maximum BMI value within the sample\n",
    "\n",
    "# Create BMI classification\n",
    "ElderlyPopWA['BMI_class'] = pd.cut(ElderlyPopWA['BMI'],\n",
    "                                   bins=[0, 23, 31, max_bmi],\n",
    "                                   labels=['Underweight', 'Healthy Weight', 'Overweight'])\n",
    "\n",
    "print(\"BMI Categories Created:\")\n",
    "print(ElderlyPopWA['BMI_class'].value_counts())\n",
    "print(f\"\\nSample data with BMI classes:\")\n",
    "print(ElderlyPopWA.head(10))"
   ]
  },
  {
   "cell_type": "markdown",
   "metadata": {},
   "source": [
    "### 2.2.4 Histogram with BMI Classification\n",
    "\n",
    "Create a histogram of body fat percentage colored by BMI classification."
   ]
  },
  {
   "cell_type": "code",
   "execution_count": null,
   "metadata": {},
   "outputs": [],
   "source": [
    "# Create histogram with BMI classification\n",
    "plt.figure(figsize=(12, 6))\n",
    "\n",
    "# Create histogram with different colors for each BMI class\n",
    "colors = ['lightblue', 'lightgreen', 'salmon']\n",
    "bmi_classes = ['Underweight', 'Healthy Weight', 'Overweight']\n",
    "\n",
    "for i, bmi_class in enumerate(bmi_classes):\n",
    "    data = ElderlyPopWA[ElderlyPopWA['BMI_class'] == bmi_class]['Pc_Body_Fat']\n",
    "    plt.hist(data, bins=np.arange(10, 40, 1), alpha=0.5, \n",
    "             color=colors[i], label=bmi_class, edgecolor='white')\n",
    "\n",
    "plt.title('Body Fat Percentage Distribution by BMI Classification')\n",
    "plt.xlabel('Percent Body Fat')\n",
    "plt.ylabel('Frequency')\n",
    "plt.legend(title='BMI Classification')\n",
    "plt.grid(True, alpha=0.3)\n",
    "plt.tight_layout()\n",
    "plt.show()"
   ]
  },
  {
   "cell_type": "markdown",
   "metadata": {},
   "source": [
    "### 2.2.5 Density Histogram\n",
    "\n",
    "Create a density histogram showing relative frequencies instead of counts."
   ]
  },
  {
   "cell_type": "code",
   "execution_count": null,
   "metadata": {},
   "outputs": [],
   "source": [
    "# Create density histogram\n",
    "plt.figure(figsize=(12, 6))\n",
    "\n",
    "# Create density histogram with different colors for each BMI class\n",
    "for i, bmi_class in enumerate(bmi_classes):\n",
    "    data = ElderlyPopWA[ElderlyPopWA['BMI_class'] == bmi_class]['Pc_Body_Fat']\n",
    "    plt.hist(data, bins=np.arange(10, 40, 1), alpha=0.5, \n",
    "             color=colors[i], label=bmi_class, edgecolor='white', density=True)\n",
    "\n",
    "plt.title('Body Fat Percentage Density Distribution by BMI Classification')\n",
    "plt.xlabel('Percent Body Fat')\n",
    "plt.ylabel('Density')\n",
    "plt.legend(title='BMI Classification')\n",
    "plt.grid(True, alpha=0.3)\n",
    "plt.tight_layout()\n",
    "plt.show()"
   ]
  },
  {
   "cell_type": "markdown",
   "metadata": {},
   "source": [
    "Notice how this did not affect the shape of the distribution, but the heights of the distributions are now similar. This is because they have been scaled in such a way that the areas of the bars sum to 1. Note that density is different to relative frequency, which is calculated by dividing each frequency by total number of observations for the corresponding group.\n",
    "\n",
    "A histogram can be an inadequate visual tool for determining the shape of the distribution as it is heavily influenced by the bin width or the number of bins. A more effective way to viewing distributions is by using density curves.\n",
    "\n"
   ]
  },
  {
   "cell_type": "markdown",
   "metadata": {},
   "source": [
    "### 2.2.6 Density Plot\n",
    "\n",
    "Create density plots for body fat percentage by BMI classification."
   ]
  },
  {
   "cell_type": "code",
   "execution_count": null,
   "metadata": {},
   "outputs": [],
   "source": [
    "# Create density plots\n",
    "plt.figure(figsize=(12, 6))\n",
    "\n",
    "# Create density plots for each BMI class\n",
    "for i, bmi_class in enumerate(bmi_classes):\n",
    "    data = ElderlyPopWA[ElderlyPopWA['BMI_class'] == bmi_class]['Pc_Body_Fat']\n",
    "    data.plot.kde(color=colors[i], linewidth=2, alpha=0.7, label=bmi_class)\n",
    "\n",
    "plt.title('Body Fat Percentage Density by BMI Classification')\n",
    "plt.xlabel('Percent Body Fat')\n",
    "plt.ylabel('Density')\n",
    "plt.legend(title='BMI Classification')\n",
    "plt.grid(True, alpha=0.3)\n",
    "plt.tight_layout()\n",
    "plt.show()"
   ]
  },
  {
   "cell_type": "markdown",
   "metadata": {},
   "source": [
    "### 2.2.7 Combined Histogram and Density Plot\n",
    "\n",
    "Create a combined plot showing both histogram and density curves."
   ]
  },
  {
   "cell_type": "code",
   "execution_count": null,
   "metadata": {},
   "outputs": [],
   "source": [
    "# Create combined histogram and density plot\n",
    "fig, ax = plt.subplots(figsize=(12, 6))\n",
    "\n",
    "# Create histogram with density overlay\n",
    "for i, bmi_class in enumerate(bmi_classes):\n",
    "    data = ElderlyPopWA[ElderlyPopWA['BMI_class'] == bmi_class]['Pc_Body_Fat']\n",
    "    \n",
    "    # Histogram\n",
    "    ax.hist(data, bins=np.arange(10, 40, 1), alpha=0.8, \n",
    "            color=colors[i], label=bmi_class, edgecolor='white', density=True)\n",
    "    \n",
    "    # Density curve\n",
    "    data.plot.kde(color=colors[i], linewidth=1.5, alpha=0.3, ax=ax)\n",
    "\n",
    "plt.title('Body Fat Percentage Distribution by BMI Classification')\n",
    "plt.xlabel('Percent Body Fat')\n",
    "plt.ylabel('Density')\n",
    "plt.legend(title='BMI Classification')\n",
    "plt.grid(True, alpha=0.3)\n",
    "plt.tight_layout()\n",
    "plt.show()"
   ]
  },
  {
   "cell_type": "markdown",
   "metadata": {},
   "source": [
    "## 2.3 Boxplots: Iris Dataset and Advanced Visualizations\n",
    "\n",
    "Explore the iris dataset with boxplots, grouped boxplots, and violin plots.\n",
    "\n",
    "A boxplot (or box and whiskers plot) is a visualisation of the 5-number summary. A great feature of a boxplot in R (and other software) is that outliers are flagged. By default, a point 𝑥 is an outlier if it falls outside of the range given by 𝑄1 − 1.5 × 𝐼𝑄𝑅 ≤ 𝑥 ≤ 𝑄3 + 1.5 × 𝐼𝑄𝑅. The value of 1.5 can be altered to say, 3, by specifying the argument oulier.size in the geom_boxplot(.) command.\n",
    "\n",
    "We will use the iris data for this demonstration. \n"
   ]
  },
  {
   "cell_type": "code",
   "execution_count": null,
   "metadata": {},
   "outputs": [],
   "source": [
    "# Load iris dataset\n",
    "from sklearn.datasets import load_iris\n",
    "iris_data = load_iris()\n",
    "iris = pd.DataFrame(iris_data.data, columns=iris_data.feature_names)\n",
    "iris['target'] = iris_data.target\n",
    "\n",
    "# Map target numbers to species names\n",
    "species_map = {0: 'setosa', 1: 'versicolor', 2: 'virginica'}\n",
    "iris['Species'] = iris['target'].map(species_map)\n",
    "\n",
    "print(\"Iris Dataset (first 10 rows):\")\n",
    "print(iris.head(10))\n",
    "print(f\"\\nDataset shape: {iris.shape}\")\n",
    "print(f\"\\nSpecies distribution:\")\n",
    "print(iris['Species'].value_counts())"
   ]
  },
  {
   "cell_type": "markdown",
   "metadata": {},
   "source": [
    "### 2.3.1 Boxplot of Sepal Length\n",
    "\n",
    "Create a boxplot of sepal length for all species."
   ]
  },
  {
   "cell_type": "code",
   "execution_count": null,
   "metadata": {},
   "outputs": [],
   "source": [
    "plt.figure(figsize=(8, 6))\n",
    "plt.boxplot(iris['sepal length (cm)'],\n",
    "            patch_artist=True,\n",
    "            boxprops=dict(facecolor='salmon', alpha=0.5),\n",
    "            medianprops=dict(color='red', linewidth=1.5))\n",
    "plt.title('Sepal Length Distribution')\n",
    "plt.ylabel('Sepal Length (cm)')\n",
    "plt.xticks([1], ['Sepal Length'])\n",
    "plt.grid(True, alpha=0.3)\n",
    "plt.tight_layout()\n",
    "plt.show()"
   ]
  },
  {
   "cell_type": "markdown",
   "metadata": {},
   "source": [
    "### 2.3.2 Grouped Boxplot by Species\n",
    "\n",
    "Create a boxplot of sepal length grouped by species."
   ]
  },
  {
   "cell_type": "code",
   "execution_count": null,
   "metadata": {},
   "outputs": [],
   "source": [
    "plt.figure(figsize=(10, 6))\n",
    "sns.boxplot(data=iris, x='Species', y='sepal length (cm)',\n",
    "            palette='husl', fliersize=5, linewidth=1.25,\n",
    "            boxprops=dict(alpha=0.5))\n",
    "plt.title('Sepal Length by Species')\n",
    "plt.xlabel('Species')\n",
    "plt.ylabel('Sepal Length (cm)')\n",
    "plt.grid(True, axis='y', alpha=0.3)\n",
    "plt.tight_layout()\n",
    "plt.show()"
   ]
  },
  {
   "cell_type": "markdown",
   "metadata": {},
   "source": [
    "### 2.3.3 Grouped Boxplot with Outlier Customization\n",
    "\n",
    "Boxplot with custom outlier size and shape."
   ]
  },
  {
   "cell_type": "code",
   "execution_count": null,
   "metadata": {},
   "outputs": [],
   "source": [
    "plt.figure(figsize=(10, 6))\n",
    "sns.boxplot(data=iris, x='Species', y='sepal length (cm)',\n",
    "            palette='husl', fliersize=5, linewidth=1.25,\n",
    "            boxprops=dict(alpha=0.5),\n",
    "            flierprops=dict(marker='*', markersize=8, markerfacecolor='red'))\n",
    "plt.title('Sepal Length by Species (Custom Outliers)')\n",
    "plt.xlabel('Species')\n",
    "plt.ylabel('Sepal Length (cm)')\n",
    "plt.grid(True, axis='y', alpha=0.3)\n",
    "plt.tight_layout()\n",
    "plt.show()"
   ]
  },
  {
   "cell_type": "markdown",
   "metadata": {},
   "source": [
    "### 2.3.4 Boxplot with Jittered Data Points\n",
    "\n",
    "Overlay jittered data points on the boxplot. Boxplots can be dangerous in the sense that the exact distribution and the density of the observations are hidden behind the boxes. For example, the length of the whiskers could be due to one or two observations, and we would not know any better. To enhance the visualisation of boxplots, we can include the actual observation points, but in a jittery manner. Notice in the code below that we need to specify Species along the x-axis in aes(.) within the stripplot(.) function so that the jitter points can be correctly mapped to the boxplots."
   ]
  },
  {
   "cell_type": "code",
   "execution_count": null,
   "metadata": {},
   "outputs": [],
   "source": [
    "plt.figure(figsize=(10, 6))\n",
    "sns.boxplot(data=iris, x='Species', y='sepal length (cm)',\n",
    "            palette='husl', width=0.7, linewidth=1.25, fliersize=5, boxprops=dict(alpha=0.5))\n",
    "sns.stripplot(data=iris, x='Species', y='sepal length (cm)',\n",
    "              color='black', size=3, jitter=0.1, alpha=0.7)\n",
    "plt.title('Sepal Length by Species with Jittered Points')\n",
    "plt.xlabel('Species')\n",
    "plt.ylabel('Sepal Length (cm)')\n",
    "plt.grid(True, axis='y', alpha=0.3)\n",
    "plt.tight_layout()\n",
    "plt.show()"
   ]
  },
  {
   "cell_type": "markdown",
   "metadata": {},
   "source": [
    "### 2.3.5 Boxplot and Violin Plot Combined\n",
    "\n",
    "Another way the enhance a boxplot is by including a violin plot. A violin plot is a rotated density plot on each side. Combine boxplot and violin plot for sepal length by species."
   ]
  },
  {
   "cell_type": "code",
   "execution_count": null,
   "metadata": {},
   "outputs": [],
   "source": [
    "plt.figure(figsize=(10, 6))\n",
    "sns.violinplot(data=iris, x='Species', y='sepal length (cm)',\n",
    "               palette='husl', alpha=0.3, inner=None)\n",
    "sns.boxplot(data=iris, x='Species', y='sepal length (cm)',\n",
    "            palette='husl', width=0.2, linewidth=1.25, fliersize=5, boxprops=dict(alpha=0.5))\n",
    "plt.title('Sepal Length by Species (Violin + Boxplot)')\n",
    "plt.xlabel('Species')\n",
    "plt.ylabel('Sepal Length (cm)')\n",
    "plt.grid(True, axis='y', alpha=0.3)\n",
    "plt.tight_layout()\n",
    "plt.show()"
   ]
  },
  {
   "cell_type": "markdown",
   "metadata": {},
   "source": [
    "## 2.4 Scatter Plot: Years of Experience vs Salary\n",
    "\n",
    "A scatter plot utilises Cartesian coordinates to display the values of two (or three) continuous variables. Scatter plots are a great way to visualise the relationship between the variables. Quite often with scatter plots, we able to ascertain the strength and the nature (e.g. linear or non-linear) of the relationships, and even outliers. This is extremely helpful in deciding the appropriate measures and models to use to describe the relationship. Load and plot the Salary Data.\n",
    "\n",
    "Next, we will use a scatter plot to illustrate the relationship between the two variable. Note that the predictor/feature is typically plotted along the x-axis and the outcome/response along the y-axis. In this instance, it makes sense that years of experience is a predictor of salary, and not the other way around."
   ]
  },
  {
   "cell_type": "code",
   "execution_count": null,
   "metadata": {},
   "outputs": [],
   "source": [
    "# Load Salary Data\n",
    "url = \"https://raw.githubusercontent.com/asim-cv/MAT6206/refs/heads/main/Datasets/Salary_Data.csv\"\n",
    "salary_df = pd.read_csv(url)\n",
    "\n",
    "print(salary_df.head())\n",
    "\n",
    "plt.figure(figsize=(8, 6))\n",
    "plt.scatter(salary_df['YearsExperience'], salary_df['Salary'],\n",
    "            color='salmon', edgecolor='red', alpha=0.7, s=100)\n",
    "plt.title('Years of Experience vs Salary')\n",
    "plt.xlabel('Years of Experience')\n",
    "plt.ylabel('Salary ($)')\n",
    "plt.grid(True, alpha=0.3)\n",
    "plt.tight_layout()\n",
    "plt.show()"
   ]
  },
  {
   "cell_type": "markdown",
   "metadata": {},
   "source": [
    "### 2.4.1 Air Quality Data Analysis\n",
    "\n",
    "Load and analyze air quality data with scatter plots and bubble charts."
   ]
  },
  {
   "cell_type": "code",
   "execution_count": null,
   "metadata": {},
   "outputs": [],
   "source": [
    "# Load air quality data\n",
    "from sklearn.datasets import fetch_openml\n",
    "import warnings\n",
    "warnings.filterwarnings('ignore')\n",
    "\n",
    "# Create simulated air quality data (since the original dataset might not be available)\n",
    "np.random.seed(42)\n",
    "n_samples = 150\n",
    "\n",
    "# Generate simulated air quality data\n",
    "solar_radiation = np.random.uniform(50, 300, n_samples)\n",
    "temperature = np.random.uniform(60, 90, n_samples)\n",
    "ozone = 50 + 0.3 * solar_radiation + 0.5 * temperature + np.random.normal(0, 10, n_samples)\n",
    "ozone = np.clip(ozone, 0, 150)  # Clip to realistic ozone levels\n",
    "\n",
    "# Create DataFrame\n",
    "aq = pd.DataFrame({\n",
    "    'Solar.R': solar_radiation,\n",
    "    'Ozone': ozone,\n",
    "    'Temp': temperature\n",
    "})\n",
    "\n",
    "print(\"Air Quality Data (first 10 rows):\")\n",
    "print(aq.head(10))\n",
    "print(f\"\\nDataset shape: {aq.shape}\")\n",
    "print(f\"\\nData summary:\")\n",
    "print(aq.describe())"
   ]
  },
  {
   "cell_type": "markdown",
   "metadata": {},
   "source": [
    "### 2.4.2 Bubble Chart: Solar Radiation vs Ozone\n",
    "\n",
    "Create a scatter plot with point size representing temperature."
   ]
  },
  {
   "cell_type": "code",
   "execution_count": null,
   "metadata": {},
   "outputs": [],
   "source": [
    "# Create bubble chart\n",
    "plt.figure(figsize=(10, 6))\n",
    "scatter = plt.scatter(aq['Solar.R'], aq['Ozone'], \n",
    "                      s=aq['Temp']*2,  # Size based on temperature\n",
    "                      c='darkcyan', alpha=0.5)\n",
    "\n",
    "plt.title('Solar Radiation vs Ozone (Bubble Size = Temperature)')\n",
    "plt.xlabel('Solar Radiation (lang)')\n",
    "plt.ylabel('Ozone (ppb)')\n",
    "\n",
    "# Add legend for bubble sizes\n",
    "legend_elements = [plt.scatter([], [], s=60*2, c='darkcyan', alpha=0.5, label='60°F'),\n",
    "                   plt.scatter([], [], s=75*2, c='darkcyan', alpha=0.5, label='75°F'),\n",
    "                   plt.scatter([], [], s=90*2, c='darkcyan', alpha=0.5, label='90°F')]\n",
    "plt.legend(handles=legend_elements, title='Temperature (°F)', loc='upper left')\n",
    "\n",
    "plt.grid(True, alpha=0.3)\n",
    "plt.tight_layout()\n",
    "plt.show()"
   ]
  },
  {
   "cell_type": "markdown",
   "metadata": {},
   "source": [
    "## 2.5 Line Plot and Data Breaches Time Series\n",
    "\n",
    "A line chart displays the progression of one or more numeric variables. It’s similar to a scatter plot, except that the points are connected by line segments, and the measurement points along the x-axis are (typically) ordered. For example, time-series data are best presented with a line chart, where time is plotted along the x-axis.\n",
    "Let us create some fictitious data relating to the number of data breaches across all businesses in Australia in the past 10 years.\n",
    "Generate and analyze time series data for data breaches."
   ]
  },
  {
   "cell_type": "code",
   "execution_count": null,
   "metadata": {},
   "outputs": [],
   "source": [
    "# Set random seed for reproducibility\n",
    "np.random.seed(12)\n",
    "\n",
    "# Generate years and Australia data\n",
    "Year = list(range(2010, 2020))\n",
    "Australia = np.random.choice(range(50, 201), size=10, replace=False)\n",
    "Australia = np.sort(Australia)  # Sort in ascending order\n",
    "\n",
    "# Create DataFrame\n",
    "df_breaches = pd.DataFrame({\n",
    "    'Year': Year,\n",
    "    'Australia': Australia\n",
    "})\n",
    "\n",
    "print(\"Data Breaches - Australia (first 10 rows):\")\n",
    "print(df_breaches)\n",
    "print(f\"\\nTotal rows: {len(df_breaches)}\")"
   ]
  },
  {
   "cell_type": "markdown",
   "metadata": {},
   "source": [
    "### 2.5.1 Basic Line Plot\n",
    "\n",
    "Create a basic line plot showing data breaches over time."
   ]
  },
  {
   "cell_type": "code",
   "execution_count": null,
   "metadata": {},
   "outputs": [],
   "source": [
    "# Create basic line plot\n",
    "plt.figure(figsize=(10, 6))\n",
    "plt.plot(df_breaches['Year'], df_breaches['Australia'], \n",
    "         color='red', linewidth=2, marker='o')\n",
    "\n",
    "plt.title('Data Breaches in Australia Over Time')\n",
    "plt.xlabel('Year')\n",
    "plt.ylabel('Number of Breaches')\n",
    "plt.grid(True, alpha=0.3)\n",
    "plt.xticks(df_breaches['Year'])\n",
    "plt.tight_layout()\n",
    "plt.show()"
   ]
  },
  {
   "cell_type": "markdown",
   "metadata": {},
   "source": [
    "### 2.5.2 Line Plot with Points and Annotations\n",
    "\n",
    "Create a line plot with points and value annotations."
   ]
  },
  {
   "cell_type": "code",
   "execution_count": null,
   "metadata": {},
   "outputs": [],
   "source": [
    "# Create line plot with points and annotations\n",
    "plt.figure(figsize=(10, 6))\n",
    "plt.plot(df_breaches['Year'], df_breaches['Australia'], \n",
    "         color='salmon', linewidth=2, marker='o', markersize=8)\n",
    "\n",
    "# Add point annotations\n",
    "for i, row in df_breaches.iterrows():\n",
    "    plt.annotate(str(row['Australia']), \n",
    "                 xy=(row['Year'], row['Australia'] + 10),\n",
    "                 ha='center', va='bottom', color='darkblue', fontweight='bold')\n",
    "\n",
    "plt.title('Data Breaches in Australia Over Time')\n",
    "plt.xlabel('Year')\n",
    "plt.ylabel('Number of Breaches')\n",
    "plt.ylim(0, 200)\n",
    "plt.grid(True, alpha=0.3)\n",
    "plt.xticks(df_breaches['Year'])\n",
    "plt.tight_layout()\n",
    "plt.show()"
   ]
  },
  {
   "cell_type": "markdown",
   "metadata": {},
   "source": [
    "### 2.5.3 Add Canada Data\n",
    "\n",
    "Generate additional data for Canada comparison."
   ]
  },
  {
   "cell_type": "code",
   "execution_count": null,
   "metadata": {},
   "outputs": [],
   "source": [
    "# Set random seed for Canada data\n",
    "np.random.seed(20)\n",
    "\n",
    "# Generate Canada data\n",
    "Canada = np.random.choice(range(20, 151), size=10, replace=False)\n",
    "Canada = np.sort(Canada)  # Sort in ascending order\n",
    "\n",
    "# Add Canada data to DataFrame\n",
    "df_breaches['Canada'] = Canada\n",
    "\n",
    "print(\"Data Breaches - Australia and Canada:\")\n",
    "print(df_breaches)\n",
    "print(f\"\\nSummary statistics:\")\n",
    "print(df_breaches[['Australia', 'Canada']].describe())"
   ]
  },
  {
   "cell_type": "markdown",
   "metadata": {},
   "source": [
    "### 2.5.4 Multi-Line Plot\n",
    "\n",
    "Create a line plot comparing Australia and Canada data breaches."
   ]
  },
  {
   "cell_type": "code",
   "execution_count": null,
   "metadata": {},
   "outputs": [],
   "source": [
    "# Create multi-line plot\n",
    "plt.figure(figsize=(12, 6))\n",
    "\n",
    "# Plot Australia data\n",
    "plt.plot(df_breaches['Year'], df_breaches['Australia'], \n",
    "         color='salmon', linewidth=2, marker='o', markersize=8, label='Australia')\n",
    "\n",
    "# Plot Canada data\n",
    "plt.plot(df_breaches['Year'], df_breaches['Canada'], \n",
    "         color='darkcyan', linewidth=2, marker='s', markersize=8, label='Canada')\n",
    "\n",
    "plt.title('Data Breaches Comparison: Australia vs Canada')\n",
    "plt.xlabel('Year')\n",
    "plt.ylabel('Number of Breaches')\n",
    "plt.ylim(0, 200)\n",
    "plt.legend()\n",
    "plt.grid(True, alpha=0.3)\n",
    "plt.xticks(df_breaches['Year'])\n",
    "plt.tight_layout()\n",
    "plt.show()"
   ]
  },
  {
   "cell_type": "markdown",
   "metadata": {},
   "source": [
    "### 2.5.5 Area Plot with Multiple Countries\n",
    "\n",
    "Create an area plot with filled regions for both countries."
   ]
  },
  {
   "cell_type": "code",
   "execution_count": null,
   "metadata": {},
   "outputs": [],
   "source": [
    "# Create area plot with multiple countries\n",
    "fig, ax = plt.subplots(figsize=(12, 6))\n",
    "\n",
    "# Plot Australia data with area fill\n",
    "ax.plot(df_breaches['Year'], df_breaches['Australia'], \n",
    "        color='salmon', linewidth=2, marker='o', markersize=8, label='Australia')\n",
    "ax.fill_between(df_breaches['Year'], df_breaches['Australia'], \n",
    "                alpha=0.5, color='salmon')\n",
    "\n",
    "# Plot Canada data with area fill\n",
    "ax.plot(df_breaches['Year'], df_breaches['Canada'], \n",
    "        color='darkcyan', linewidth=2, marker='s', markersize=8, label='Canada')\n",
    "ax.fill_between(df_breaches['Year'], df_breaches['Canada'], \n",
    "                alpha=0.5, color='darkcyan', hatch='///')\n",
    "\n",
    "plt.title('Data Breaches Comparison: Australia vs Canada (Area Plot)')\n",
    "plt.xlabel('Year')\n",
    "plt.ylabel('Number of Breaches')\n",
    "plt.ylim(0, 200)\n",
    "plt.legend()\n",
    "plt.grid(True, alpha=0.3)\n",
    "plt.xticks(df_breaches['Year'])\n",
    "plt.tight_layout()\n",
    "plt.show()"
   ]
  },
  {
   "cell_type": "markdown",
   "metadata": {},
   "source": [
    "## 2.6 Faceted Plots with Different Layouts\n",
    "\n",
    "Create various faceted plot layouts using the fish data."
   ]
  },
  {
   "cell_type": "code",
   "execution_count": null,
   "metadata": {},
   "outputs": [],
   "source": [
    "# Create faceted plots with different layouts\n",
    "# First, let's recreate the grouped bar plot for faceting\n",
    "plt.figure(figsize=(12, 6))\n",
    "sns.barplot(data=tot_fishers_tod, x='num_fisher', y='fish_caught', hue='ToD', alpha=0.7)\n",
    "plt.title('Total Fish Caught by Number of Fishers and Time of Day')\n",
    "plt.xlabel('Number of Fishers')\n",
    "plt.ylabel('Total Fish Caught')\n",
    "plt.legend(title='Time of Day')\n",
    "plt.tight_layout()\n",
    "plt.show()"
   ]
  },
  {
   "cell_type": "markdown",
   "metadata": {},
   "source": [
    "### 2.6.1 Faceted Plot - Row Layout\n",
    "\n",
    "Create a faceted plot using wrap layout (similar to facet_wrap)."
   ]
  },
  {
   "cell_type": "code",
   "execution_count": null,
   "metadata": {},
   "outputs": [],
   "source": [
    "# Create faceted plot with 2 rows layout\n",
    "fig, axes = plt.subplots(2, 1, figsize=(12, 10))\n",
    "\n",
    "# Morning data\n",
    "morning_data = tot_fishers_tod[tot_fishers_tod['ToD'] == 'Morning']\n",
    "axes[0].bar(morning_data['num_fisher'], morning_data['fish_caught'], \n",
    "             color='salmon', alpha=0.7)\n",
    "axes[0].set_title('Fish Caught - Morning')\n",
    "axes[0].set_xlabel('Number of Fishers')\n",
    "axes[0].set_ylabel('Total Fish Caught')\n",
    "axes[0].grid(True, alpha=0.3)\n",
    "\n",
    "# Evening data\n",
    "evening_data = tot_fishers_tod[tot_fishers_tod['ToD'] == 'Evening']\n",
    "axes[1].bar(evening_data['num_fisher'], evening_data['fish_caught'], \n",
    "             color='darkcyan', alpha=0.7)\n",
    "axes[1].set_title('Fish Caught - Evening')\n",
    "axes[1].set_xlabel('Number of Fishers')\n",
    "axes[1].set_ylabel('Total Fish Caught')\n",
    "axes[1].grid(True, alpha=0.3)\n",
    "\n",
    "plt.tight_layout()\n",
    "plt.show()"
   ]
  },
  {
   "cell_type": "markdown",
   "metadata": {},
   "source": [
    "### 2.6.2 Faceted Plot - Column Layout\n",
    "\n",
    "Create a faceted plot with column layout (similar to facet_grid with columns)."
   ]
  },
  {
   "cell_type": "code",
   "execution_count": null,
   "metadata": {},
   "outputs": [],
   "source": [
    "# Create faceted plot with column layout\n",
    "fig, axes = plt.subplots(1, 2, figsize=(15, 6))\n",
    "\n",
    "# Morning data\n",
    "morning_data = tot_fishers_tod[tot_fishers_tod['ToD'] == 'Morning']\n",
    "axes[0].bar(morning_data['num_fisher'], morning_data['fish_caught'], \n",
    "             color='salmon', alpha=0.7)\n",
    "axes[0].set_title('Fish Caught - Morning')\n",
    "axes[0].set_xlabel('Number of Fishers')\n",
    "axes[0].set_ylabel('Total Fish Caught')\n",
    "axes[0].grid(True, alpha=0.3)\n",
    "\n",
    "# Evening data\n",
    "evening_data = tot_fishers_tod[tot_fishers_tod['ToD'] == 'Evening']\n",
    "axes[1].bar(evening_data['num_fisher'], evening_data['fish_caught'], \n",
    "             color='darkcyan', alpha=0.7)\n",
    "axes[1].set_title('Fish Caught - Evening')\n",
    "axes[1].set_xlabel('Number of Fishers')\n",
    "axes[1].set_ylabel('Total Fish Caught')\n",
    "axes[1].grid(True, alpha=0.3)\n",
    "\n",
    "plt.tight_layout()\n",
    "plt.show()"
   ]
  },
  {
   "cell_type": "markdown",
   "metadata": {},
   "source": [
    "### 2.6.3 Multi-Plot Arrangement\n",
    "\n",
    "Create a multi-plot arrangement with different visualizations."
   ]
  },
  {
   "cell_type": "code",
   "execution_count": null,
   "metadata": {},
   "outputs": [],
   "source": [
    "# Create multi-plot arrangement\n",
    "fig, axes = plt.subplots(2, 2, figsize=(15, 12))\n",
    "\n",
    "# Plot 1: Salary vs Experience (if salary data exists)\n",
    "try:\n",
    "    salary_df = pd.read_csv('Salary_Data-1.csv')\n",
    "    axes[0, 0].scatter(salary_df['YearsExperience'], salary_df['Salary'],\n",
    "                       color='salmon', alpha=0.7, s=50)\n",
    "    axes[0, 0].set_title('Salary vs Experience')\n",
    "    axes[0, 0].set_xlabel('Years of Experience')\n",
    "    axes[0, 0].set_ylabel('Salary ($)')\n",
    "    axes[0, 0].grid(True, alpha=0.3)\n",
    "except:\n",
    "    # If salary data doesn't exist, create a sample plot\n",
    "    x = np.random.rand(50)\n",
    "    y = x * 2 + np.random.rand(50)\n",
    "    axes[0, 0].scatter(x, y, color='salmon', alpha=0.7, s=50)\n",
    "    axes[0, 0].set_title('Sample Scatter Plot')\n",
    "    axes[0, 0].set_xlabel('X')\n",
    "    axes[0, 0].set_ylabel('Y')\n",
    "    axes[0, 0].grid(True, alpha=0.3)\n",
    "\n",
    "# Plot 2: Iris boxplot\n",
    "if 'iris' in locals():\n",
    "    sns.boxplot(data=iris, x='Species', y='sepal length (cm)', ax=axes[0, 1])\n",
    "    axes[0, 1].set_title('Sepal Length by Species')\n",
    "    axes[0, 1].grid(True, alpha=0.3)\n",
    "else:\n",
    "    # Create sample boxplot\n",
    "    data = [np.random.normal(0, 1, 100) for _ in range(3)]\n",
    "    axes[0, 1].boxplot(data, labels=['A', 'B', 'C'])\n",
    "    axes[0, 1].set_title('Sample Boxplot')\n",
    "    axes[0, 1].grid(True, alpha=0.3)\n",
    "\n",
    "# Plot 3: Fish data histogram\n",
    "if 'ElderlyPopWA' in locals():\n",
    "    axes[1, 0].hist(ElderlyPopWA['BMI'], bins=20, alpha=0.7, color='lightblue')\n",
    "    axes[1, 0].set_title('BMI Distribution')\n",
    "    axes[1, 0].set_xlabel('BMI')\n",
    "    axes[1, 0].set_ylabel('Frequency')\n",
    "    axes[1, 0].grid(True, alpha=0.3)\n",
    "else:\n",
    "    # Create sample histogram\n",
    "    data = np.random.normal(0, 1, 1000)\n",
    "    axes[1, 0].hist(data, bins=30, alpha=0.7, color='lightblue')\n",
    "    axes[1, 0].set_title('Sample Histogram')\n",
    "    axes[1, 0].set_xlabel('Value')\n",
    "    axes[1, 0].set_ylabel('Frequency')\n",
    "    axes[1, 0].grid(True, alpha=0.3)\n",
    "\n",
    "# Plot 4: Line plot\n",
    "if 'df_breaches' in locals():\n",
    "    axes[1, 1].plot(df_breaches['Year'], df_breaches['Australia'], \n",
    "                     color='salmon', marker='o')\n",
    "    axes[1, 1].set_title('Data Breaches Over Time')\n",
    "    axes[1, 1].set_xlabel('Year')\n",
    "    axes[1, 1].set_ylabel('Number of Breaches')\n",
    "    axes[1, 1].grid(True, alpha=0.3)\n",
    "else:\n",
    "    # Create sample line plot\n",
    "    x = np.arange(10)\n",
    "    y = np.random.rand(10)\n",
    "    axes[1, 1].plot(x, y, color='salmon', marker='o')\n",
    "    axes[1, 1].set_title('Sample Line Plot')\n",
    "    axes[1, 1].set_xlabel('X')\n",
    "    axes[1, 1].set_ylabel('Y')\n",
    "    axes[1, 1].grid(True, alpha=0.3)\n",
    "\n",
    "plt.tight_layout()\n",
    "plt.show()"
   ]
  },
  {
   "cell_type": "markdown",
   "metadata": {},
   "source": [
    "### 2.6.4 Complex Multi-Plot Arrangement\n",
    "\n",
    "Create a more complex multi-plot arrangement with nested layouts."
   ]
  },
  {
   "cell_type": "code",
   "execution_count": null,
   "metadata": {},
   "outputs": [],
   "source": [
    "# Create complex multi-plot arrangement\n",
    "fig = plt.figure(figsize=(16, 12))\n",
    "\n",
    "# Create a 2x2 grid\n",
    "gs = fig.add_gridspec(2, 2, hspace=0.3, wspace=0.3)\n",
    "\n",
    "# Top row: Two plots side by side\n",
    "ax1 = fig.add_subplot(gs[0, 0])\n",
    "ax2 = fig.add_subplot(gs[0, 1])\n",
    "\n",
    "# Bottom row: One plot spanning both columns\n",
    "ax3 = fig.add_subplot(gs[1, :])\n",
    "\n",
    "# Plot 1: Scatter plot\n",
    "if 'salary_df' in locals():\n",
    "    ax1.scatter(salary_df['YearsExperience'], salary_df['Salary'],\n",
    "               color='salmon', alpha=0.7, s=50)\n",
    "    ax1.set_title('Salary vs Experience')\n",
    "    ax1.set_xlabel('Years of Experience')\n",
    "    ax1.set_ylabel('Salary ($)')\n",
    "else:\n",
    "    x = np.random.rand(50)\n",
    "    y = x * 2 + np.random.rand(50)\n",
    "    ax1.scatter(x, y, color='salmon', alpha=0.7, s=50)\n",
    "    ax1.set_title('Sample Scatter Plot')\n",
    "    ax1.set_xlabel('X')\n",
    "    ax1.set_ylabel('Y')\n",
    "ax1.grid(True, alpha=0.3)\n",
    "\n",
    "# Plot 2: Boxplot\n",
    "if 'iris' in locals():\n",
    "    sns.boxplot(data=iris, x='Species', y='sepal length (cm)', ax=ax2)\n",
    "    ax2.set_title('Sepal Length by Species')\n",
    "else:\n",
    "    data = [np.random.normal(0, 1, 100) for _ in range(3)]\n",
    "    ax2.boxplot(data, labels=['A', 'B', 'C'])\n",
    "    ax2.set_title('Sample Boxplot')\n",
    "ax2.grid(True, alpha=0.3)\n",
    "\n",
    "# Plot 3: Line plot (spans both columns)\n",
    "if 'df_breaches' in locals():\n",
    "    ax3.plot(df_breaches['Year'], df_breaches['Australia'], \n",
    "             color='salmon', marker='o', linewidth=2, markersize=8, label='Australia')\n",
    "    if 'Canada' in df_breaches.columns:\n",
    "        ax3.plot(df_breaches['Year'], df_breaches['Canada'], \n",
    "                 color='darkcyan', marker='s', linewidth=2, markersize=8, label='Canada')\n",
    "    ax3.set_title('Data Breaches Comparison')\n",
    "    ax3.set_xlabel('Year')\n",
    "    ax3.set_ylabel('Number of Breaches')\n",
    "    ax3.legend()\n",
    "else:\n",
    "    x = np.arange(10)\n",
    "    y1 = np.random.rand(10)\n",
    "    y2 = np.random.rand(10)\n",
    "    ax3.plot(x, y1, color='salmon', marker='o', linewidth=2, markersize=8, label='Series A')\n",
    "    ax3.plot(x, y2, color='darkcyan', marker='s', linewidth=2, markersize=8, label='Series B')\n",
    "    ax3.set_title('Sample Multi-Line Plot')\n",
    "    ax3.set_xlabel('X')\n",
    "    ax3.set_ylabel('Y')\n",
    "    ax3.legend()\n",
    "ax3.grid(True, alpha=0.3)\n",
    "\n",
    "plt.tight_layout()\n",
    "plt.show()"
   ]
  },
  {
   "cell_type": "markdown",
   "metadata": {},
   "source": [
    "## 2.7 Export Plots to Files\n",
    "\n",
    "Save plots to files (equivalent to ggexport functionality)."
   ]
  },
  {
   "cell_type": "code",
   "execution_count": null,
   "metadata": {},
   "outputs": [],
   "source": [
    "# Export plots to files\n",
    "import os\n",
    "\n",
    "# Create output directory if it doesn't exist\n",
    "output_dir = 'plots_output'\n",
    "if not os.path.exists(output_dir):\n",
    "    os.makedirs(output_dir)\n",
    "\n",
    "# Save individual plots\n",
    "fig1, ax1 = plt.subplots(figsize=(10, 6))\n",
    "if 'df_breaches' in locals():\n",
    "    ax1.plot(df_breaches['Year'], df_breaches['Australia'], \n",
    "             color='salmon', marker='o', linewidth=2, markersize=8)\n",
    "    ax1.set_title('Data Breaches in Australia')\n",
    "    ax1.set_xlabel('Year')\n",
    "    ax1.set_ylabel('Number of Breaches')\n",
    "    ax1.grid(True, alpha=0.3)\n",
    "    plt.tight_layout()\n",
    "    plt.savefig(f'{output_dir}/australia_breaches.png', dpi=300, bbox_inches='tight')\n",
    "    plt.show()\n",
    "\n",
    "fig2, ax2 = plt.subplots(figsize=(10, 6))\n",
    "if 'tot_fishers_tod' in locals():\n",
    "    sns.barplot(data=tot_fishers_tod, x='num_fisher', y='fish_caught', hue='ToD', alpha=0.7, ax=ax2)\n",
    "    ax2.set_title('Fish Caught by Number of Fishers and Time of Day')\n",
    "    ax2.set_xlabel('Number of Fishers')\n",
    "    ax2.set_ylabel('Total Fish Caught')\n",
    "    plt.tight_layout()\n",
    "    plt.savefig(f'{output_dir}/fish_caught.png', dpi=300, bbox_inches='tight')\n",
    "    plt.show()\n",
    "\n",
    "fig3, ax3 = plt.subplots(figsize=(10, 6))\n",
    "if 'iris' in locals():\n",
    "    sns.boxplot(data=iris, x='Species', y='sepal length (cm)', ax=ax3)\n",
    "    ax3.set_title('Sepal Length by Species')\n",
    "    ax3.grid(True, alpha=0.3)\n",
    "    plt.tight_layout()\n",
    "    plt.savefig(f'{output_dir}/iris_boxplot.png', dpi=300, bbox_inches='tight')\n",
    "    plt.show()\n",
    "\n",
    "print(f\"Plots saved to '{output_dir}' directory:\")\n",
    "print(\"- australia_breaches.png\")\n",
    "print(\"- fish_caught.png\") \n",
    "print(\"- iris_boxplot.png\")"
   ]
  }
 ],
 "metadata": {
  "kernelspec": {
   "display_name": "Python 3 (ipykernel)",
   "language": "python",
   "name": "python3"
  },
  "language_info": {
   "codemirror_mode": {
    "name": "ipython",
    "version": 3
   },
   "file_extension": ".py",
   "mimetype": "text/x-python",
   "name": "python",
   "nbconvert_exporter": "python",
   "pygments_lexer": "ipython3",
   "version": "3.12.7"
  }
 },
 "nbformat": 4,
 "nbformat_minor": 4
}

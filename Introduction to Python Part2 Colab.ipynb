{
 "cells": [
  {
   "cell_type": "markdown",
   "metadata": {},
   "source": [
    "# Introduction to Python (Part 2)¶\n",
    "\n",
    "## Create, Manipulate and Summarise Data"
   ]
  },
  {
   "cell_type": "code",
   "execution_count": null,
   "metadata": {},
   "outputs": [],
   "source": [
    "# Import necessary libraries\n",
    "import numpy as np\n",
    "import pandas as pd\n",
    "import os\n",
    "# from google.colab import files #Uncomment if you are using Google Colab\n",
    "import io\n",
    "import random\n",
    "from scipy import stats"
   ]
  },
  {
   "cell_type": "markdown",
   "metadata": {},
   "source": [
    "---\n",
    "### Generating Numbers and Sequences"
   ]
  },
  {
   "cell_type": "code",
   "execution_count": null,
   "metadata": {},
   "outputs": [],
   "source": [
    "# 20 random numbers between 1 and 10 (inclusive)\n",
    "x1 = np.random.randint(1, 11, size=20)\n",
    "x1"
   ]
  },
  {
   "cell_type": "code",
   "execution_count": null,
   "metadata": {},
   "outputs": [],
   "source": [
    "# 20 random numbers between 5 and 15 from a Uniform distribution\n",
    "x2 = np.random.uniform(5, 15, 20)\n",
    "x2"
   ]
  },
  {
   "cell_type": "code",
   "execution_count": null,
   "metadata": {},
   "outputs": [],
   "source": [
    "# 20 random numbers from a normal distribution with mean=12 and sd=3\n",
    "x3 = np.random.normal(loc=12, scale=3, size=20)\n",
    "x3"
   ]
  },
  {
   "cell_type": "markdown",
   "metadata": {},
   "source": [
    "---"
   ]
  },
  {
   "cell_type": "code",
   "execution_count": null,
   "metadata": {},
   "outputs": [],
   "source": [
    "# A sequence from 1 to 20 with a 0.5 increment\n",
    "x4 = np.arange(1, 20.5, 0.5)\n",
    "x4"
   ]
  },
  {
   "cell_type": "code",
   "execution_count": null,
   "metadata": {},
   "outputs": [],
   "source": [
    "# Repeat the sequence {1,2,3,4,5} 5 times over\n",
    "x5 = np.tile(np.arange(1,6), 5)\n",
    "x5"
   ]
  },
  {
   "cell_type": "code",
   "execution_count": null,
   "metadata": {},
   "outputs": [],
   "source": [
    "# Repeat each element of the sequence {1,2,3,4,5} by 5 times\n",
    "x6 = np.repeat(np.arange(1,6), 5)\n",
    "x6"
   ]
  },
  {
   "cell_type": "code",
   "execution_count": null,
   "metadata": {},
   "outputs": [],
   "source": [
    "# Repeat each element of the sequence {1,2,3,4,5} by 3 times, then repeat that sequence 2 times\n",
    "x7 = np.tile(np.repeat(np.arange(1,6), 3), 2)\n",
    "x7"
   ]
  },
  {
   "cell_type": "markdown",
   "metadata": {},
   "source": [
    "---"
   ]
  },
  {
   "cell_type": "code",
   "execution_count": null,
   "metadata": {},
   "outputs": [],
   "source": [
    "# List first 10 letters (lowercase)\n",
    "import string\n",
    "list(string.ascii_lowercase[:10])"
   ]
  },
  {
   "cell_type": "code",
   "execution_count": null,
   "metadata": {},
   "outputs": [],
   "source": [
    "# List first 10 letters (UPPERCASE)\n",
    "list(string.ascii_uppercase[:10])"
   ]
  },
  {
   "cell_type": "markdown",
   "metadata": {},
   "source": [
    "---\n",
    "## Data Import/Export and Visualization"
   ]
  },
  {
   "cell_type": "code",
   "execution_count": null,
   "metadata": {},
   "outputs": [],
   "source": [
    "# Uncomment the following if you are using Google Colab\n",
    "# uploaded = files.upload()  # Interactive upload\n",
    "# display(Image(next(iter(uploaded))))"
   ]
  },
  {
   "cell_type": "code",
   "execution_count": null,
   "metadata": {},
   "outputs": [],
   "source": [
    "# Setting the default display style\n",
    "pd.reset_option('^display.', silent=True)  # The '^' targets all display options"
   ]
  },
  {
   "cell_type": "code",
   "execution_count": null,
   "metadata": {},
   "outputs": [],
   "source": [
    "# Upload the ElderlyPopWA-1.csv file\n",
    "uploaded = files.upload()\n",
    "ElderlyPopWA = pd.read_csv(io.BytesIO(uploaded['ElderlyPopWA-1.csv']))"
   ]
  },
  {
   "cell_type": "code",
   "execution_count": null,
   "metadata": {},
   "outputs": [],
   "source": [
    "# Uncomment the following lines if you want to see all the rows and columns\n",
    "# pd.set_option('display.max_rows', None)  # Show all rows\n",
    "# pd.set_option('display.max_columns', None)  # Show all columns\n",
    "display(ElderlyPopWA) # Using display function to view the data"
   ]
  },
  {
   "cell_type": "code",
   "execution_count": null,
   "metadata": {},
   "outputs": [],
   "source": [
    "ElderlyPopWA.head() # Show only the head"
   ]
  },
  {
   "cell_type": "code",
   "execution_count": null,
   "metadata": {},
   "outputs": [],
   "source": [
    "# Export DataFrame to CSV\n",
    "ElderlyPopWA.to_csv('ElderlyPopWA_updated.csv', index=False) # index = False ensures that no row numbers are entered"
   ]
  },
  {
   "cell_type": "markdown",
   "metadata": {},
   "source": [
    "---\n",
    "## Data Manipulation and Summaries"
   ]
  },
  {
   "cell_type": "code",
   "execution_count": null,
   "metadata": {},
   "outputs": [],
   "source": [
    "# Create BMI categories for the elderly female participants\n",
    "# (Assumes ElderlyPopWA DataFrame is loaded)\n",
    "mBMI = ElderlyPopWA['BMI'].max()\n",
    "ElderlyPopWA['BMI_class'] = pd.cut(ElderlyPopWA['BMI'],\n",
    "     bins=[0,23,31,mBMI],\n",
    "     labels=['Underweight','Healthy_Weight','Overweight'])\n",
    "ElderlyPopWA"
   ]
  },
  {
   "cell_type": "code",
   "execution_count": null,
   "metadata": {
    "scrolled": true
   },
   "outputs": [],
   "source": [
    "# Subsetting by a categorical variable\n",
    "Underweight = ElderlyPopWA[ElderlyPopWA['BMI_class']=='Underweight']\n",
    "Underweight"
   ]
  },
  {
   "cell_type": "code",
   "execution_count": null,
   "metadata": {
    "scrolled": true
   },
   "outputs": [],
   "source": [
    "# Subsetting by a categorical variable\n",
    "# Selecting more than one value\n",
    "Unhealthy_weight = ElderlyPopWA[ElderlyPopWA['BMI_class'].isin(['Underweight','Overweight'])]\n",
    "Unhealthy_weight"
   ]
  },
  {
   "cell_type": "code",
   "execution_count": null,
   "metadata": {
    "scrolled": true
   },
   "outputs": [],
   "source": [
    "# Select a subset\n",
    "# Select those under 75 years of age, and select all columns\n",
    "Age_LT75 = ElderlyPopWA[ElderlyPopWA['Age'] < 75] \n",
    "Age_LT75"
   ]
  },
  {
   "cell_type": "code",
   "execution_count": null,
   "metadata": {
    "scrolled": true
   },
   "outputs": [],
   "source": [
    "# Select a subset\n",
    "# Select those under 75 years of age, but select fewer columns only\n",
    "# use : instead of ['BMI', 'Waist'] incase if all the columns are to be selected\n",
    "Age_LT75 = ElderlyPopWA.loc[ElderlyPopWA['Age']<75, ['BMI', 'Waist']]; Age_LT75"
   ]
  },
  {
   "cell_type": "code",
   "execution_count": null,
   "metadata": {
    "scrolled": true
   },
   "outputs": [],
   "source": [
    "# Select a subset by using \"~\" operator\n",
    "# Select those that are not under 75 years of age.\n",
    "Age_GTE75 = ElderlyPopWA[~(ElderlyPopWA['Age'] < 75)] \n",
    "Age_GTE75"
   ]
  },
  {
   "cell_type": "markdown",
   "metadata": {},
   "source": [
    "---\n",
    "## Data Statistics and Analysis"
   ]
  },
  {
   "cell_type": "markdown",
   "metadata": {},
   "source": [
    "### Measure the centre"
   ]
  },
  {
   "cell_type": "code",
   "execution_count": null,
   "metadata": {},
   "outputs": [],
   "source": [
    "ElderlyPopWA['Age'].mean()"
   ]
  },
  {
   "cell_type": "code",
   "execution_count": null,
   "metadata": {},
   "outputs": [],
   "source": [
    "ElderlyPopWA['Age'].median()"
   ]
  },
  {
   "cell_type": "markdown",
   "metadata": {},
   "source": [
    "### Measure the Shape"
   ]
  },
  {
   "cell_type": "code",
   "execution_count": null,
   "metadata": {},
   "outputs": [],
   "source": [
    "ElderlyPopWA['Age'].std()"
   ]
  },
  {
   "cell_type": "code",
   "execution_count": null,
   "metadata": {},
   "outputs": [],
   "source": [
    "ElderlyPopWA['Age'].min(), ElderlyPopWA['Age'].max()"
   ]
  },
  {
   "cell_type": "code",
   "execution_count": null,
   "metadata": {},
   "outputs": [],
   "source": [
    "ElderlyPopWA['Age'].quantile([0.25,0.5,0.75])"
   ]
  },
  {
   "cell_type": "code",
   "execution_count": null,
   "metadata": {},
   "outputs": [],
   "source": [
    "np.percentile(ElderlyPopWA['Age'], [0,25,50,75,100])"
   ]
  },
  {
   "cell_type": "markdown",
   "metadata": {},
   "source": [
    "### Measure the Spread"
   ]
  },
  {
   "cell_type": "code",
   "execution_count": null,
   "metadata": {},
   "outputs": [],
   "source": [
    "# Skewness and kurtosis (requires scipy.stats)\n",
    "stats.skew(ElderlyPopWA['Age'])"
   ]
  },
  {
   "cell_type": "code",
   "execution_count": null,
   "metadata": {},
   "outputs": [],
   "source": [
    "# Skewness and kurtosis (requires scipy.stats)\n",
    "stats.kurtosis(ElderlyPopWA['Age'])"
   ]
  },
  {
   "cell_type": "markdown",
   "metadata": {},
   "source": [
    "#### Column-wise opeations"
   ]
  },
  {
   "cell_type": "code",
   "execution_count": null,
   "metadata": {},
   "outputs": [],
   "source": [
    "# Column means\n",
    "ElderlyPopWA.iloc[:,1:8].mean()"
   ]
  },
  {
   "cell_type": "code",
   "execution_count": null,
   "metadata": {},
   "outputs": [],
   "source": [
    "# Apply mean column-wise using axis=0, axis=1 implies row-wise\n",
    "ElderlyPopWA.iloc[:,1:8].apply(np.mean, axis=0)"
   ]
  },
  {
   "cell_type": "code",
   "execution_count": null,
   "metadata": {},
   "outputs": [],
   "source": [
    "# # Apply std column-wise using axis=0, axis=1 implies row-wise\n",
    "ElderlyPopWA.iloc[:,1:8].apply(np.std, axis=0)"
   ]
  },
  {
   "cell_type": "markdown",
   "metadata": {},
   "source": [
    "#### Frequency and proportion tables"
   ]
  },
  {
   "cell_type": "code",
   "execution_count": null,
   "metadata": {},
   "outputs": [],
   "source": [
    "# Number of participants in each BMI Class\n",
    "BMI_freq = ElderlyPopWA['BMI_class'].value_counts(); BMI_freq"
   ]
  },
  {
   "cell_type": "code",
   "execution_count": null,
   "metadata": {},
   "outputs": [],
   "source": [
    "# Proportions of the samples for each BMI Class\n",
    "BMI_prop = ElderlyPopWA['BMI_class'].value_counts(normalize=True); BMI_prop"
   ]
  },
  {
   "cell_type": "code",
   "execution_count": null,
   "metadata": {},
   "outputs": [],
   "source": [
    "# Create another categorical variable, i.e. age group\n",
    "ElderlyPopWA['Age_grp'] = pd.cut(ElderlyPopWA['Age'], [0,74.99,100], labels=['<75years','75+years'])\n",
    "tab = pd.crosstab(ElderlyPopWA['Age_grp'], ElderlyPopWA['BMI_class']); tab"
   ]
  },
  {
   "cell_type": "code",
   "execution_count": null,
   "metadata": {},
   "outputs": [],
   "source": [
    "# Checking the propotion of new variable, age group\n",
    "tab.div(tab.sum(axis=1), axis=0)  # Proportions by row"
   ]
  },
  {
   "cell_type": "code",
   "execution_count": null,
   "metadata": {},
   "outputs": [],
   "source": [
    "tab.div(tab.sum(axis=0), axis=1)  # Proportions by column"
   ]
  },
  {
   "cell_type": "code",
   "execution_count": null,
   "metadata": {},
   "outputs": [],
   "source": [
    "tab/tab.values.sum()  # Proportions relative to overall sample size"
   ]
  },
  {
   "cell_type": "code",
   "execution_count": null,
   "metadata": {},
   "outputs": [],
   "source": [
    "# Summarise waist circumference by BMI class\n",
    "ElderlyPopWA.groupby('BMI_class', observed=True)['Waist'].mean() # Compute the mean"
   ]
  },
  {
   "cell_type": "code",
   "execution_count": null,
   "metadata": {},
   "outputs": [],
   "source": [
    "ElderlyPopWA.groupby('BMI_class', observed=True)['Waist'].std() # Compute the standard deviation"
   ]
  },
  {
   "cell_type": "code",
   "execution_count": null,
   "metadata": {},
   "outputs": [],
   "source": [
    "# Summarise waist circumference by BMI class and age group\n",
    "ElderlyPopWA.groupby(['BMI_class','Age_grp'], observed=True)['Waist'].mean() # Compute the mean"
   ]
  },
  {
   "cell_type": "code",
   "execution_count": null,
   "metadata": {},
   "outputs": [],
   "source": [
    "ElderlyPopWA.groupby(['BMI_class','Age_grp'], observed=True)['Waist'].std() # Compute the standard deviation"
   ]
  },
  {
   "cell_type": "code",
   "execution_count": null,
   "metadata": {},
   "outputs": [],
   "source": [
    "# Mean waist circumference by BMI Class, using apply\n",
    "ElderlyPopWA.groupby('BMI_class', observed=True)['Waist'].apply(np.mean)"
   ]
  },
  {
   "cell_type": "code",
   "execution_count": null,
   "metadata": {},
   "outputs": [],
   "source": [
    "ElderlyPopWA.groupby(['BMI_class','Age_grp'], observed=True)['Waist'].apply(np.mean) #BMI CLass and Age Group"
   ]
  },
  {
   "cell_type": "code",
   "execution_count": null,
   "metadata": {},
   "outputs": [],
   "source": [
    "# Round proportions\n",
    "np.round(ElderlyPopWA['BMI_class'].value_counts(normalize=True), 3)"
   ]
  },
  {
   "cell_type": "code",
   "execution_count": null,
   "metadata": {},
   "outputs": [],
   "source": [
    "# Chained operations with pandas\n",
    "ElderlyPopWA['BMI_class'].value_counts(normalize=True).round(3) # Round to 3 dp"
   ]
  },
  {
   "cell_type": "markdown",
   "metadata": {},
   "source": [
    "---\n",
    "### Functions in Python"
   ]
  },
  {
   "cell_type": "code",
   "execution_count": null,
   "metadata": {},
   "outputs": [],
   "source": [
    "# Function definition and usage in Python\n",
    "def Greeting():\n",
    "    print(\"Hello! My name is XXXX\")"
   ]
  },
  {
   "cell_type": "code",
   "execution_count": null,
   "metadata": {},
   "outputs": [],
   "source": [
    "Greeting() # Calling a function"
   ]
  },
  {
   "cell_type": "code",
   "execution_count": null,
   "metadata": {},
   "outputs": [],
   "source": [
    "def add3(x):\n",
    "    return x + 3"
   ]
  },
  {
   "cell_type": "code",
   "execution_count": null,
   "metadata": {},
   "outputs": [],
   "source": [
    "add3(5) # Passing parameters"
   ]
  },
  {
   "cell_type": "code",
   "execution_count": null,
   "metadata": {},
   "outputs": [],
   "source": [
    "add3(10)"
   ]
  },
  {
   "cell_type": "code",
   "execution_count": null,
   "metadata": {},
   "outputs": [],
   "source": [
    "add3(15)"
   ]
  },
  {
   "cell_type": "code",
   "execution_count": null,
   "metadata": {},
   "outputs": [],
   "source": [
    "def add_mult(x, y):\n",
    "    sum_xy = x + y\n",
    "    prod_xy = x * y\n",
    "    ratio_xy = x / y\n",
    "    return sum_xy, prod_xy, ratio_xy"
   ]
  },
  {
   "cell_type": "code",
   "execution_count": null,
   "metadata": {},
   "outputs": [],
   "source": [
    "x = 3\n",
    "y = 4\n",
    "print(add_mult(x, y))"
   ]
  },
  {
   "cell_type": "code",
   "execution_count": null,
   "metadata": {},
   "outputs": [],
   "source": [
    "add_mult(x=3, y=4)"
   ]
  },
  {
   "cell_type": "code",
   "execution_count": null,
   "metadata": {},
   "outputs": [],
   "source": [
    "add_mult(y=4, x=3)"
   ]
  },
  {
   "cell_type": "code",
   "execution_count": null,
   "metadata": {},
   "outputs": [],
   "source": [
    "add_mult(3, 4)"
   ]
  },
  {
   "cell_type": "markdown",
   "metadata": {},
   "source": [
    "---\n",
    "### Control Stuctures *(IF ELSE Statements)*"
   ]
  },
  {
   "cell_type": "code",
   "execution_count": null,
   "metadata": {},
   "outputs": [],
   "source": [
    "# If statement: check if x is odd\n",
    "x = 5\n",
    "if x % 2 != 0:\n",
    "    print(f'{x} is an odd integer')"
   ]
  },
  {
   "cell_type": "code",
   "execution_count": null,
   "metadata": {},
   "outputs": [],
   "source": [
    "# If-else statement: check if x is odd or even\n",
    "x = 10\n",
    "if x % 2 != 0:\n",
    "    print(f'{x} is an odd integer')\n",
    "else:\n",
    "    print(f'{x} is an even integer')"
   ]
  },
  {
   "cell_type": "code",
   "execution_count": null,
   "metadata": {},
   "outputs": [],
   "source": [
    "# Nested if-elif-else for grading\n",
    "score = 65\n",
    "if score < 0:\n",
    "    print('Invalid score!')\n",
    "elif score < 50:\n",
    "    print('Your final grade is N.')\n",
    "elif score < 60:\n",
    "    print('Your final grade is P.')\n",
    "elif score < 70:\n",
    "    print('Your final grade is C.')\n",
    "elif score < 80:\n",
    "    print('Your final grade is D.')\n",
    "elif score <= 100:\n",
    "    print('Your final grade is HD.')\n",
    "else:\n",
    "    print('Invalid score!')"
   ]
  },
  {
   "cell_type": "code",
   "execution_count": null,
   "metadata": {},
   "outputs": [],
   "source": [
    "# For loop from 1 to 10\n",
    "for I in range(1, 11):\n",
    "    print(I)"
   ]
  },
  {
   "cell_type": "code",
   "execution_count": null,
   "metadata": {},
   "outputs": [],
   "source": [
    "# For loop to print mean of columns 2 to 8 (assumes ElderlyPopWA is loaded)\n",
    "dat = ElderlyPopWA.copy()\n",
    "for J in range(1, 8):\n",
    "    print(dat.iloc[:, J].mean().round(3))"
   ]
  },
  {
   "cell_type": "code",
   "execution_count": null,
   "metadata": {},
   "outputs": [],
   "source": [
    "# For loop: print numbers divisible by 7 from 1 to 100\n",
    "for I in range(1, 101):\n",
    "    if I % 7 == 0:\n",
    "        print(I)"
   ]
  },
  {
   "cell_type": "code",
   "execution_count": null,
   "metadata": {},
   "outputs": [],
   "source": [
    "# For loop: print first 10 numbers divisible by 13 between 500 and 800\n",
    "count = 0\n",
    "for I in range(500, 801):\n",
    "    if I % 13 == 0:\n",
    "        print(I)\n",
    "        count += 1\n",
    "    if count == 10:\n",
    "        break"
   ]
  }
 ],
 "metadata": {
  "kernelspec": {
   "display_name": "Python 3 (ipykernel)",
   "language": "python",
   "name": "python3"
  },
  "language_info": {
   "codemirror_mode": {
    "name": "ipython",
    "version": 3
   },
   "file_extension": ".py",
   "mimetype": "text/x-python",
   "name": "python",
   "nbconvert_exporter": "python",
   "pygments_lexer": "ipython3",
   "version": "3.12.7"
  }
 },
 "nbformat": 4,
 "nbformat_minor": 4
}
